{
 "cells": [
  {
   "cell_type": "markdown",
   "metadata": {},
   "source": [
    "# Apêndice VII \t– Ntbk 02. Criação do *dataset*  consolidado - *merges* e saneamentos.ipynb\n",
    "\n",
    "Este notebook tem por objetivo criar uma única tabela consolidada, gerada a partir dos *merges/joins* dos *datasets* gerados pelo *Ntbk 01. Coleta dos dados e transformações preliminaress* (que são resultado dos ajustes e transformações dos dataset originais coletados).\n",
    "\n",
    "Veremos que, para isso, precisaremos promover novas transfomações, agora em relação ao conteúdo dos dataset, para garantir a uniformidade das informações.\n",
    "\n",
    "Está estruturado da seguinte maneira:\n",
    "1. Ações Preliminares;\n",
    "2. Comparação entre os *datasets* a serem consolidados;\n",
    "3. Obtenção do *dataset* de referência para uniformização dos nomes dos municípios;\n",
    "4. *Merges* dos *datasets* de interesse;\n",
    "5. Criação do *dataset* consolidado ('ntbk 02 - dataset consolidado.csv').\n"
   ]
  },
  {
   "cell_type": "markdown",
   "metadata": {},
   "source": [
    "# 1. Ações Preliminares\n",
    "\n",
    "## - Importação das bibliotecas de interesse."
   ]
  },
  {
   "cell_type": "code",
   "execution_count": 1,
   "metadata": {},
   "outputs": [],
   "source": [
    "import pandas as pd\n",
    "import numpy as np\n",
    "from zipfile import ZipFile\n",
    "\n",
    "pd.set_option('max_columns',200)\n",
    "pd.set_option('max_rows',100)\n"
   ]
  },
  {
   "cell_type": "markdown",
   "metadata": {},
   "source": [
    "## - Declaração de funções que serão utilizadas no notebook."
   ]
  },
  {
   "cell_type": "code",
   "execution_count": 2,
   "metadata": {},
   "outputs": [],
   "source": [
    "def descompactar(nome_arquivo_compactado):\n",
    "    # lê o arquivo zipado e extrai o conteúdo\n",
    "    with ZipFile (nome_arquivo_compactado, 'r') as zip:\n",
    "        zip.extractall()\n",
    "        zip.printdir()        \n",
    "    return \"Concluído\""
   ]
  },
  {
   "cell_type": "code",
   "execution_count": 3,
   "metadata": {},
   "outputs": [],
   "source": [
    "## Função utilizada para remover caracteres especiais.\n",
    "\n",
    "def remover_caracteres_especiais(nome):\n",
    "    nome = nome.replace('Á','A').replace('Â','A').replace('Ã','A').replace('À','A').replace('É','E').replace('Ê','E').replace('Í','I').replace('Ó','O').replace('Ô','O').replace('Õ','O').replace('Ú','U').replace('Ü','U').replace('Ç', 'C')\n",
    "    return nome"
   ]
  },
  {
   "cell_type": "code",
   "execution_count": 4,
   "metadata": {},
   "outputs": [],
   "source": [
    "## Função utilizada para uniformizar os nomes dos municípios.\n",
    "## A grafia à direita ser refere à atualização mais recente publicada pelo IBGE acerca dos municípios do Brasil.\n",
    "\n",
    "def corrigir_nomes_municipios(nome):\n",
    "\n",
    "    nome = nome.replace('AMPARO DA SERRA-MG','AMPARO DO SERRA-MG')\\\n",
    "    .replace('AMPARO DE SAO FRANCISCO-SE','AMPARO DO SAO FRANCISCO-SE')\\\n",
    "    .replace('AUGUSTO SEVERO-RN','CAMPO GRANDE-RN') \\\n",
    "    .replace('ASSU-RN','ACU-RN') \\\n",
    "    .replace('BALNEARIO DE PICARRAS-SC','BALNEARIO PICARRAS-SC').replace('BARAO DO MONTE ALTO-MG','BARAO DE MONTE ALTO-MG') \\\n",
    "    .replace('BELEM DE SAO FRANCISCO-PE','BELEM DO SAO FRANCISCO-PE').replace('BIRITIBA-MIRIM-SP','BIRITIBA MIRIM-SP') \\\n",
    "    .replace('BOA SAUDE-RN','JANUARIO CICCO-RN')\\\n",
    "    .replace('BOM JESUS-GO','BOM JESUS DE GOIAS-GO').replace('BRASOPOLIS-MG','BRAZOPOLIS-MG') \\\n",
    "    .replace('DONA EUSEBIA-MG','DONA EUZEBIA-MG').replace('ELDORADO DOS CARAJAS-PA','ELDORADO DO CARAJAS-PA') \\\n",
    "    .replace('EMBU-SP','EMBU DAS ARTES-SP').replace('FLORINIA-SP','FLORINEA-SP').replace('FORTALEZA DO TABOCAO-TO','TABOCAO-TO') \\\n",
    "    .replace('GRAO PARA-SC','GRAO-PARA-SC')\\\n",
    "    .replace('IGUARACI-PE','IGUARACY-PE').replace('LAGOA DO ITAENGA-PE','LAGOA DE ITAENGA-PE') \\\n",
    "    .replace('MOGI-MIRIM-SP','MOGI MIRIM-SP').replace('MUNHOZ DE MELLO-PR','MUNHOZ DE MELO-PR') \\\n",
    "    .replace('MUQUEM DE SAO FRANCISCO-BA','MUQUEM DO SAO FRANCISCO-BA') \\\n",
    "    .replace(\"OLHO D'AGUA DOS BORGES-RN\",\"OLHO D'AGUA DO BORGES-RN\")\\\n",
    "    .replace('PACAEMBU DAS ARTES-SP','PACAEMBU-SP').replace('PARATI-RJ','PARATY-RJ') \\\n",
    "    .replace('PASSA-VINTE-MG','PASSA VINTE-MG').replace(\"PINGO D'AGUA-MG\",\"PINGO-D'AGUA-MG\") \\\n",
    "    .replace('POXOREO-MT','POXOREU-MT').replace('PRESIDENTE CASTELO BRANCO-SC','PRESIDENTE CASTELLO BRANCO-SC') \\\n",
    "    .replace('SANTA CRUZ DO MONTE CASTELO-PR','SANTA CRUZ DE MONTE CASTELO-PR') \\\n",
    "    .replace('SANTA ISABEL DO PARA-PA','SANTA IZABEL DO PARA-PA').replace('SANTA TERESINHA-BA','SANTA TEREZINHA-BA') \\\n",
    "    .replace(\"SANTANA DO LIVRAMENTO-RS\",\"SANT'ANA DO LIVRAMENTO-RS\").replace('SAO DOMINGOS DE POMBAL-PB','SAO DOMINGOS-PB') \\\n",
    "    .replace('SAO THOME DAS LETRAS-MG','SAO TOME DAS LETRAS-MG')\\\n",
    "    .replace('SAO VALERIO DA NATIVIDADE-TO','SAO VALERIO-TO').replace('TRAJANO DE MORAIS-RJ','TRAJANO DE MORAES-RJ')\n",
    "      \n",
    "\n",
    "    return nome"
   ]
  },
  {
   "cell_type": "code",
   "execution_count": 5,
   "metadata": {},
   "outputs": [],
   "source": [
    "## Função para identificar se há valores fantantes, ou NaN em um dataframe\n",
    "\n",
    "def identificar_faltantes(df):\n",
    "\n",
    "    \n",
    "    #Mostra o tamanho do meu dataset\n",
    "    print(\"Shape do dataframe:\",df.shape)\n",
    "    \n",
    "    #mostra em que coluna estão esses elementos faltantes\n",
    "    colunas_faltantes = df.columns[df.isna().any()].tolist()\n",
    "    print(\"Colunas que contêm valores faltantes:\",colunas_faltantes)\n",
    "    \n",
    "    #traz o número de linhas que restariam se eu tirasse os que seriam excluídas pelo dropna\n",
    "    print(\"Número de linhas com valores faltantes:\",df.shape[0]-df.dropna().shape[0],\"\\n\")\n",
    "\n",
    "    \n",
    "    return colunas_faltantes"
   ]
  },
  {
   "cell_type": "markdown",
   "metadata": {},
   "source": [
    "# 2. Comparação entre os *datasets* a serem consolidados."
   ]
  },
  {
   "cell_type": "markdown",
   "metadata": {},
   "source": [
    "### - Leitura dos arquivo '.csv' gerados pelo *Ntbk 01. Coleta dos dados."
   ]
  },
  {
   "cell_type": "code",
   "execution_count": 6,
   "metadata": {},
   "outputs": [
    {
     "name": "stdout",
     "output_type": "stream",
     "text": [
      "Shapes:\n",
      "-arrecadacao_2018 (5576, 2)\n",
      "-IBGE_Empresas (5570, 8)\n",
      "-IBGE_PIB (5570, 20)\n",
      "-IBGE_Residentes (5570, 2)\n",
      "-IBGE_Censo_Idade (5565, 6)\n",
      "-IBGE_Censo_Instrucao (5565, 7)\n",
      "-IBGE_Censo_Rendimento (5565, 10)\n"
     ]
    }
   ],
   "source": [
    "arrecadacao_2018=pd.read_csv('ntbk 01_01 - rfb arrecadacao 2018.csv')\n",
    "IBGE_Empresas=pd.read_csv('ntbk 01_02 - ibge empresas 2018.csv')\n",
    "IBGE_PIB=pd.read_csv('ntbk 01_03 - ibge pib 2018.csv')\n",
    "IBGE_Residentes=pd.read_csv('ntbk 01_04 - ibge população residente 2018.csv')\n",
    "IBGE_Censo_Idade=pd.read_csv('ntbk 01_05 - ibge censo 2010 idades.csv')\n",
    "IBGE_Censo_Instrucao=pd.read_csv('ntbk 01_06 - ibge censo instrucao.csv')\n",
    "IBGE_Censo_Rendimento=pd.read_csv('ntbk 01_07 - ibge censo rendimentos.csv')\n",
    "\n",
    "print (\"Shapes:\")\n",
    "print ('-arrecadacao_2018',arrecadacao_2018.shape)\n",
    "print ('-IBGE_Empresas',IBGE_Empresas.shape)\n",
    "print ('-IBGE_PIB',IBGE_PIB.shape)\n",
    "print ('-IBGE_Residentes',IBGE_Residentes.shape)\n",
    "print ('-IBGE_Censo_Idade',IBGE_Censo_Idade.shape)\n",
    "print ('-IBGE_Censo_Instrucao',IBGE_Censo_Instrucao.shape)\n",
    "print ('-IBGE_Censo_Rendimento',IBGE_Censo_Rendimento.shape)"
   ]
  },
  {
   "cell_type": "markdown",
   "metadata": {},
   "source": [
    "Com a leitura dos shapes das bases de interesse, observa-se, de pronto, que há divergências entre os valores e, possivelmente, inconsistências. \n",
    "\n",
    "Sabe-se que atualmente, há, no Brasil, 5570 municípios:\n",
    "- Mesmo número contido nas bases indicadas por IBGE_Empresas,IBGE_PIB e IBGE_Residentes;\n",
    "- No entanto a base da RFB (indicada por arrecadacao_2018) apresenta 5576 municípios;\n",
    "- Já as bases indicadas por IBGE_Censo_Idade,  IBGE_Censo_Instrucao, IBGE_Censo_Rendimento contêm 5565 municípios.\n"
   ]
  },
  {
   "cell_type": "markdown",
   "metadata": {},
   "source": [
    "# 3. Obtenção do *dataset* de referência para uniformização dos nomes dos municípios\n",
    "\n",
    "De modo a uniformizarmos nossas bases a partir de uma referência comum e, assim, sanearmos as possíveis divergências vamos importar a tabela Códigos de Municípios mais recente do site do IBGE (que, no caso, é a de 2020).\n"
   ]
  },
  {
   "cell_type": "markdown",
   "metadata": {},
   "source": [
    "\n",
    "## Dataset: Códigos dos Municípios - 2020 (DTB_2020_v2.zip)\n",
    "Descrição:\n",
    "\n",
    "A Tabela de Códigos de Municípios do IBGE apresenta a lista dos municípios brasileiros associados a um código composto de 7 dígitos, sendo os dois primeiros referentes ao código da Unidade da Federação.\n",
    "\n",
    "É atualizada sistematicamente de forma a incluir as alterações decorrentes do desdobramento de municípios e, conseqüentemente, da criação de novos municípios, mudanças de nome dos municípios, como também de processos de fusão que resultam na extinção ou modificação de nome de algum município.\n",
    "\n",
    "A informação mais recente é a do ano de 2020.\n",
    "\n",
    "Trata-se de uma arquivo compactado que contém nossa base de interesse: “RELATORIO_DTB_BRASIL_MUNICIPIO.xls”\n",
    "\n",
    "- Fonte: Site do Instituto Brasileiro de Geografia e Estatística na Internet (https://geoftp.ibge.gov.br/organizacao_do_territorio/estrutura_territorial/divisao_territorial/)\n",
    "\n",
    "\n",
    "- Endereço eletrônico: https://geoftp.ibge.gov.br/organizacao_do_territorio/estrutura_territorial/divisao_territorial/2020/DTB_2020_v2.zip\n",
    "Data da coleta: 19/3/2021;\n",
    "\n",
    "\n",
    "- Possui metadados: não.\n"
   ]
  },
  {
   "cell_type": "code",
   "execution_count": 7,
   "metadata": {},
   "outputs": [
    {
     "name": "stdout",
     "output_type": "stream",
     "text": [
      "File Name                                             Modified             Size\n",
      "RELATORIO_DTB_BRASIL_DISTRITO.ods              2021-02-18 08:41:42       538622\n",
      "RELATORIO_DTB_BRASIL_DISTRITO.xls              2021-02-18 08:42:38      2993152\n",
      "RELATORIO_DTB_BRASIL_MUNICIPIO.ods             2021-02-18 08:43:28       272777\n",
      "RELATORIO_DTB_BRASIL_MUNICIPIO.xls             2021-02-18 08:44:14      1323520\n",
      "RELATORIO_DTB_BRASIL_SUBDISTRITO.ods           2021-02-18 08:44:58        43461\n",
      "RELATORIO_DTB_BRASIL_SUBDISTRITO.xls           2021-02-18 08:47:36       230400\n"
     ]
    },
    {
     "data": {
      "text/plain": [
       "'Concluído'"
      ]
     },
     "execution_count": 7,
     "metadata": {},
     "output_type": "execute_result"
    }
   ],
   "source": [
    "descompactar('DTB_2020_v2.zip')"
   ]
  },
  {
   "cell_type": "code",
   "execution_count": 8,
   "metadata": {},
   "outputs": [
    {
     "data": {
      "text/html": [
       "<div>\n",
       "<style scoped>\n",
       "    .dataframe tbody tr th:only-of-type {\n",
       "        vertical-align: middle;\n",
       "    }\n",
       "\n",
       "    .dataframe tbody tr th {\n",
       "        vertical-align: top;\n",
       "    }\n",
       "\n",
       "    .dataframe thead th {\n",
       "        text-align: right;\n",
       "    }\n",
       "</style>\n",
       "<table border=\"1\" class=\"dataframe\">\n",
       "  <thead>\n",
       "    <tr style=\"text-align: right;\">\n",
       "      <th></th>\n",
       "      <th>UF</th>\n",
       "      <th>Nome_UF</th>\n",
       "      <th>Região Geográfica Intermediária</th>\n",
       "      <th>Nome Região Geográfica Intermediária</th>\n",
       "      <th>Região Geográfica Imediata</th>\n",
       "      <th>Nome Região Geográfica Imediata</th>\n",
       "      <th>Mesorregião Geográfica</th>\n",
       "      <th>Nome_Mesorregião</th>\n",
       "      <th>Microrregião Geográfica</th>\n",
       "      <th>Nome_Microrregião</th>\n",
       "      <th>Município</th>\n",
       "      <th>Código Município Completo</th>\n",
       "      <th>Nome_Município</th>\n",
       "    </tr>\n",
       "  </thead>\n",
       "  <tbody>\n",
       "    <tr>\n",
       "      <th>0</th>\n",
       "      <td>11</td>\n",
       "      <td>Rondônia</td>\n",
       "      <td>1102</td>\n",
       "      <td>Ji-Paraná</td>\n",
       "      <td>110005</td>\n",
       "      <td>Cacoal</td>\n",
       "      <td>2</td>\n",
       "      <td>Leste Rondoniense</td>\n",
       "      <td>6</td>\n",
       "      <td>Cacoal</td>\n",
       "      <td>15</td>\n",
       "      <td>1100015</td>\n",
       "      <td>Alta Floresta D'Oeste</td>\n",
       "    </tr>\n",
       "    <tr>\n",
       "      <th>1</th>\n",
       "      <td>11</td>\n",
       "      <td>Rondônia</td>\n",
       "      <td>1102</td>\n",
       "      <td>Ji-Paraná</td>\n",
       "      <td>110005</td>\n",
       "      <td>Cacoal</td>\n",
       "      <td>2</td>\n",
       "      <td>Leste Rondoniense</td>\n",
       "      <td>6</td>\n",
       "      <td>Cacoal</td>\n",
       "      <td>379</td>\n",
       "      <td>1100379</td>\n",
       "      <td>Alto Alegre dos Parecis</td>\n",
       "    </tr>\n",
       "  </tbody>\n",
       "</table>\n",
       "</div>"
      ],
      "text/plain": [
       "   UF   Nome_UF  Região Geográfica Intermediária  \\\n",
       "0  11  Rondônia                             1102   \n",
       "1  11  Rondônia                             1102   \n",
       "\n",
       "  Nome Região Geográfica Intermediária  Região Geográfica Imediata  \\\n",
       "0                            Ji-Paraná                      110005   \n",
       "1                            Ji-Paraná                      110005   \n",
       "\n",
       "  Nome Região Geográfica Imediata  Mesorregião Geográfica   Nome_Mesorregião  \\\n",
       "0                          Cacoal                       2  Leste Rondoniense   \n",
       "1                          Cacoal                       2  Leste Rondoniense   \n",
       "\n",
       "   Microrregião Geográfica Nome_Microrregião  Município  \\\n",
       "0                        6            Cacoal         15   \n",
       "1                        6            Cacoal        379   \n",
       "\n",
       "   Código Município Completo           Nome_Município  \n",
       "0                    1100015    Alta Floresta D'Oeste  \n",
       "1                    1100379  Alto Alegre dos Parecis  "
      ]
     },
     "execution_count": 8,
     "metadata": {},
     "output_type": "execute_result"
    }
   ],
   "source": [
    "nome_arquivo = 'RELATORIO_DTB_BRASIL_MUNICIPIO.xls'\n",
    "IBGE_municipios=pd.read_excel(nome_arquivo)\n",
    "IBGE_municipios.head(2)"
   ]
  },
  {
   "cell_type": "markdown",
   "metadata": {},
   "source": [
    "Como se vê, IBGE_municipios contém as 5570 linhas, como esperado.\n",
    "\n",
    "**Para comparar com os demais dataset, precisaremos criar a coluna padrão municipio-uf.** Mas IBGE_municípios não tem a sigla dos estados.Precisaremos, então, incluir em IBGE_municipios a sigla da uf (por meio de um merge com um dataframe auxiliar criado a partir de IBGE-PIB que conterá, exclusivamente, as variáveis '03_nome_uf' e '03_uf'.\n",
    "\n",
    "Iniciamos coletando o valores únicos para nome do estado e a sigla do estado a partir do dataframe IBGE_PIB ('03_nome_uf' e '03_uf')"
   ]
  },
  {
   "cell_type": "code",
   "execution_count": 9,
   "metadata": {},
   "outputs": [
    {
     "data": {
      "text/html": [
       "<div>\n",
       "<style scoped>\n",
       "    .dataframe tbody tr th:only-of-type {\n",
       "        vertical-align: middle;\n",
       "    }\n",
       "\n",
       "    .dataframe tbody tr th {\n",
       "        vertical-align: top;\n",
       "    }\n",
       "\n",
       "    .dataframe thead th {\n",
       "        text-align: right;\n",
       "    }\n",
       "</style>\n",
       "<table border=\"1\" class=\"dataframe\">\n",
       "  <thead>\n",
       "    <tr style=\"text-align: right;\">\n",
       "      <th></th>\n",
       "      <th>03_nome_uf</th>\n",
       "      <th>03_uf</th>\n",
       "    </tr>\n",
       "  </thead>\n",
       "  <tbody>\n",
       "    <tr>\n",
       "      <th>0</th>\n",
       "      <td>Rondônia</td>\n",
       "      <td>RO</td>\n",
       "    </tr>\n",
       "    <tr>\n",
       "      <th>52</th>\n",
       "      <td>Acre</td>\n",
       "      <td>AC</td>\n",
       "    </tr>\n",
       "    <tr>\n",
       "      <th>74</th>\n",
       "      <td>Amazonas</td>\n",
       "      <td>AM</td>\n",
       "    </tr>\n",
       "    <tr>\n",
       "      <th>136</th>\n",
       "      <td>Roraima</td>\n",
       "      <td>RR</td>\n",
       "    </tr>\n",
       "    <tr>\n",
       "      <th>151</th>\n",
       "      <td>Pará</td>\n",
       "      <td>PA</td>\n",
       "    </tr>\n",
       "  </tbody>\n",
       "</table>\n",
       "</div>"
      ],
      "text/plain": [
       "    03_nome_uf 03_uf\n",
       "0     Rondônia    RO\n",
       "52        Acre    AC\n",
       "74    Amazonas    AM\n",
       "136    Roraima    RR\n",
       "151       Pará    PA"
      ]
     },
     "execution_count": 9,
     "metadata": {},
     "output_type": "execute_result"
    }
   ],
   "source": [
    "estado_sigla = IBGE_PIB[['03_nome_uf','03_uf']].copy()\n",
    "estado_sigla = estado_sigla.drop_duplicates()\n",
    "estado_sigla.head()"
   ]
  },
  {
   "cell_type": "markdown",
   "metadata": {},
   "source": [
    "Vamos, agora, criar uma nova coluna com a sigla dos estados em IBGE_municipios, resultado do merge com o df estado_sigla acima criado."
   ]
  },
  {
   "cell_type": "code",
   "execution_count": 10,
   "metadata": {},
   "outputs": [
    {
     "name": "stdout",
     "output_type": "stream",
     "text": [
      "(5570, 15)\n"
     ]
    },
    {
     "data": {
      "text/html": [
       "<div>\n",
       "<style scoped>\n",
       "    .dataframe tbody tr th:only-of-type {\n",
       "        vertical-align: middle;\n",
       "    }\n",
       "\n",
       "    .dataframe tbody tr th {\n",
       "        vertical-align: top;\n",
       "    }\n",
       "\n",
       "    .dataframe thead th {\n",
       "        text-align: right;\n",
       "    }\n",
       "</style>\n",
       "<table border=\"1\" class=\"dataframe\">\n",
       "  <thead>\n",
       "    <tr style=\"text-align: right;\">\n",
       "      <th></th>\n",
       "      <th>UF</th>\n",
       "      <th>Nome_UF</th>\n",
       "      <th>Região Geográfica Intermediária</th>\n",
       "      <th>Nome Região Geográfica Intermediária</th>\n",
       "      <th>Região Geográfica Imediata</th>\n",
       "      <th>Nome Região Geográfica Imediata</th>\n",
       "      <th>Mesorregião Geográfica</th>\n",
       "      <th>Nome_Mesorregião</th>\n",
       "      <th>Microrregião Geográfica</th>\n",
       "      <th>Nome_Microrregião</th>\n",
       "      <th>Município</th>\n",
       "      <th>Código Município Completo</th>\n",
       "      <th>Nome_Município</th>\n",
       "      <th>03_nome_uf</th>\n",
       "      <th>03_uf</th>\n",
       "    </tr>\n",
       "  </thead>\n",
       "  <tbody>\n",
       "    <tr>\n",
       "      <th>0</th>\n",
       "      <td>11</td>\n",
       "      <td>Rondônia</td>\n",
       "      <td>1102</td>\n",
       "      <td>Ji-Paraná</td>\n",
       "      <td>110005</td>\n",
       "      <td>Cacoal</td>\n",
       "      <td>2</td>\n",
       "      <td>Leste Rondoniense</td>\n",
       "      <td>6</td>\n",
       "      <td>Cacoal</td>\n",
       "      <td>15</td>\n",
       "      <td>1100015</td>\n",
       "      <td>Alta Floresta D'Oeste</td>\n",
       "      <td>Rondônia</td>\n",
       "      <td>RO</td>\n",
       "    </tr>\n",
       "    <tr>\n",
       "      <th>1</th>\n",
       "      <td>11</td>\n",
       "      <td>Rondônia</td>\n",
       "      <td>1102</td>\n",
       "      <td>Ji-Paraná</td>\n",
       "      <td>110005</td>\n",
       "      <td>Cacoal</td>\n",
       "      <td>2</td>\n",
       "      <td>Leste Rondoniense</td>\n",
       "      <td>6</td>\n",
       "      <td>Cacoal</td>\n",
       "      <td>379</td>\n",
       "      <td>1100379</td>\n",
       "      <td>Alto Alegre dos Parecis</td>\n",
       "      <td>Rondônia</td>\n",
       "      <td>RO</td>\n",
       "    </tr>\n",
       "  </tbody>\n",
       "</table>\n",
       "</div>"
      ],
      "text/plain": [
       "   UF   Nome_UF  Região Geográfica Intermediária  \\\n",
       "0  11  Rondônia                             1102   \n",
       "1  11  Rondônia                             1102   \n",
       "\n",
       "  Nome Região Geográfica Intermediária  Região Geográfica Imediata  \\\n",
       "0                            Ji-Paraná                      110005   \n",
       "1                            Ji-Paraná                      110005   \n",
       "\n",
       "  Nome Região Geográfica Imediata  Mesorregião Geográfica   Nome_Mesorregião  \\\n",
       "0                          Cacoal                       2  Leste Rondoniense   \n",
       "1                          Cacoal                       2  Leste Rondoniense   \n",
       "\n",
       "   Microrregião Geográfica Nome_Microrregião  Município  \\\n",
       "0                        6            Cacoal         15   \n",
       "1                        6            Cacoal        379   \n",
       "\n",
       "   Código Município Completo           Nome_Município 03_nome_uf 03_uf  \n",
       "0                    1100015    Alta Floresta D'Oeste   Rondônia    RO  \n",
       "1                    1100379  Alto Alegre dos Parecis   Rondônia    RO  "
      ]
     },
     "execution_count": 10,
     "metadata": {},
     "output_type": "execute_result"
    }
   ],
   "source": [
    "IBGE_municipios = pd.merge(IBGE_municipios, estado_sigla,how=\"outer\", left_on='Nome_UF',right_on='03_nome_uf')\n",
    "print(IBGE_municipios.shape)\n",
    "IBGE_municipios.head(2)"
   ]
  },
  {
   "cell_type": "markdown",
   "metadata": {},
   "source": [
    "Podemos, agora, criar a coluna padronizada 'municipio-uf' e, na sequência, excluir as variáveis que já não mais serão necessárias."
   ]
  },
  {
   "cell_type": "code",
   "execution_count": 11,
   "metadata": {},
   "outputs": [
    {
     "data": {
      "text/html": [
       "<div>\n",
       "<style scoped>\n",
       "    .dataframe tbody tr th:only-of-type {\n",
       "        vertical-align: middle;\n",
       "    }\n",
       "\n",
       "    .dataframe tbody tr th {\n",
       "        vertical-align: top;\n",
       "    }\n",
       "\n",
       "    .dataframe thead th {\n",
       "        text-align: right;\n",
       "    }\n",
       "</style>\n",
       "<table border=\"1\" class=\"dataframe\">\n",
       "  <thead>\n",
       "    <tr style=\"text-align: right;\">\n",
       "      <th></th>\n",
       "      <th>UF</th>\n",
       "      <th>Nome_UF</th>\n",
       "      <th>Região Geográfica Intermediária</th>\n",
       "      <th>Nome Região Geográfica Intermediária</th>\n",
       "      <th>Região Geográfica Imediata</th>\n",
       "      <th>Nome Região Geográfica Imediata</th>\n",
       "      <th>Mesorregião Geográfica</th>\n",
       "      <th>Nome_Mesorregião</th>\n",
       "      <th>Microrregião Geográfica</th>\n",
       "      <th>Nome_Microrregião</th>\n",
       "      <th>Município</th>\n",
       "      <th>Código Município Completo</th>\n",
       "      <th>Nome_Município</th>\n",
       "      <th>municipio-uf</th>\n",
       "    </tr>\n",
       "  </thead>\n",
       "  <tbody>\n",
       "    <tr>\n",
       "      <th>0</th>\n",
       "      <td>11</td>\n",
       "      <td>Rondônia</td>\n",
       "      <td>1102</td>\n",
       "      <td>Ji-Paraná</td>\n",
       "      <td>110005</td>\n",
       "      <td>Cacoal</td>\n",
       "      <td>2</td>\n",
       "      <td>Leste Rondoniense</td>\n",
       "      <td>6</td>\n",
       "      <td>Cacoal</td>\n",
       "      <td>15</td>\n",
       "      <td>1100015</td>\n",
       "      <td>Alta Floresta D'Oeste</td>\n",
       "      <td>ALTA FLORESTA D'OESTE-RO</td>\n",
       "    </tr>\n",
       "    <tr>\n",
       "      <th>1</th>\n",
       "      <td>11</td>\n",
       "      <td>Rondônia</td>\n",
       "      <td>1102</td>\n",
       "      <td>Ji-Paraná</td>\n",
       "      <td>110005</td>\n",
       "      <td>Cacoal</td>\n",
       "      <td>2</td>\n",
       "      <td>Leste Rondoniense</td>\n",
       "      <td>6</td>\n",
       "      <td>Cacoal</td>\n",
       "      <td>379</td>\n",
       "      <td>1100379</td>\n",
       "      <td>Alto Alegre dos Parecis</td>\n",
       "      <td>ALTO ALEGRE DOS PARECIS-RO</td>\n",
       "    </tr>\n",
       "  </tbody>\n",
       "</table>\n",
       "</div>"
      ],
      "text/plain": [
       "   UF   Nome_UF  Região Geográfica Intermediária  \\\n",
       "0  11  Rondônia                             1102   \n",
       "1  11  Rondônia                             1102   \n",
       "\n",
       "  Nome Região Geográfica Intermediária  Região Geográfica Imediata  \\\n",
       "0                            Ji-Paraná                      110005   \n",
       "1                            Ji-Paraná                      110005   \n",
       "\n",
       "  Nome Região Geográfica Imediata  Mesorregião Geográfica   Nome_Mesorregião  \\\n",
       "0                          Cacoal                       2  Leste Rondoniense   \n",
       "1                          Cacoal                       2  Leste Rondoniense   \n",
       "\n",
       "   Microrregião Geográfica Nome_Microrregião  Município  \\\n",
       "0                        6            Cacoal         15   \n",
       "1                        6            Cacoal        379   \n",
       "\n",
       "   Código Município Completo           Nome_Município  \\\n",
       "0                    1100015    Alta Floresta D'Oeste   \n",
       "1                    1100379  Alto Alegre dos Parecis   \n",
       "\n",
       "                 municipio-uf  \n",
       "0    ALTA FLORESTA D'OESTE-RO  \n",
       "1  ALTO ALEGRE DOS PARECIS-RO  "
      ]
     },
     "execution_count": 11,
     "metadata": {},
     "output_type": "execute_result"
    }
   ],
   "source": [
    "\n",
    "#Agora podemos  criar a coluna padronizada 'municpipio-uf'\n",
    "IBGE_municipios['municipio-uf']=IBGE_municipios['Nome_Município'].str.upper()+'-'+IBGE_municipios['03_uf'].str.upper()\n",
    "\n",
    "# Removendo caracteres especiais da coluna recém-criada.\n",
    "IBGE_municipios['municipio-uf'] = IBGE_municipios['municipio-uf'].apply(remover_caracteres_especiais)\n",
    "\n",
    "#Podemos apagar a coluna \"03_nome_uf\" e \"03_uf\" criada com o merge no dataframe IBGE_municipios\n",
    "IBGE_municipios = IBGE_municipios.drop(['03_nome_uf','03_uf'],axis=1)\n",
    "\n",
    "IBGE_municipios.head(2)\n"
   ]
  },
  {
   "cell_type": "markdown",
   "metadata": {},
   "source": [
    "# 4. *Merges* dos *datasets* de interesse.\n",
    "\n",
    "Para a criação da tabela consolidada, faremos uma sequência de merges (com os saneamentos necessários).\n",
    "\n",
    "e modo a uniformizar os resultados, privilegiaremos sempre as informações contidas em IBGE_municipios (por se tratar da base mais atualizada). Assim:\n",
    "- municípios que não mais constem dessa relação serão excluídos; \n",
    "- municípios com grafias diferentes terão seus nomes ajustados a partir dessa referência; \n",
    "\n",
    "O primeiro merge será entre os dataframes IBGE_municipios e arrecadacao_2018. Os demais merges terão por ponto de partida os merges anteriores."
   ]
  },
  {
   "cell_type": "markdown",
   "metadata": {},
   "source": [
    "## Merge 1 - 'IBGE_municipios' e 'arrecadacao_2018'."
   ]
  },
  {
   "cell_type": "code",
   "execution_count": 12,
   "metadata": {},
   "outputs": [
    {
     "name": "stdout",
     "output_type": "stream",
     "text": [
      "Shape de IBGE_municipios (5570, 14)\n",
      "Shape de arrecadacao_2018 (5576, 2)\n",
      "Shape de  merge_01 (5609, 2)\n",
      "\n",
      " Diferenças encontradas (72, 2)\n",
      "right_only    39\n",
      "left_only     33\n",
      "both           0\n",
      "Name: _merge, dtype: int64\n"
     ]
    },
    {
     "data": {
      "text/html": [
       "<div>\n",
       "<style scoped>\n",
       "    .dataframe tbody tr th:only-of-type {\n",
       "        vertical-align: middle;\n",
       "    }\n",
       "\n",
       "    .dataframe tbody tr th {\n",
       "        vertical-align: top;\n",
       "    }\n",
       "\n",
       "    .dataframe thead th {\n",
       "        text-align: right;\n",
       "    }\n",
       "</style>\n",
       "<table border=\"1\" class=\"dataframe\">\n",
       "  <thead>\n",
       "    <tr style=\"text-align: right;\">\n",
       "      <th></th>\n",
       "      <th>municipio-uf</th>\n",
       "      <th>_merge</th>\n",
       "    </tr>\n",
       "  </thead>\n",
       "  <tbody>\n",
       "    <tr>\n",
       "      <th>197</th>\n",
       "      <td>ELDORADO DO CARAJAS-PA</td>\n",
       "      <td>left_only</td>\n",
       "    </tr>\n",
       "    <tr>\n",
       "      <th>259</th>\n",
       "      <td>SANTA IZABEL DO PARA-PA</td>\n",
       "      <td>left_only</td>\n",
       "    </tr>\n",
       "    <tr>\n",
       "      <th>436</th>\n",
       "      <td>SAO VALERIO-TO</td>\n",
       "      <td>left_only</td>\n",
       "    </tr>\n",
       "    <tr>\n",
       "      <th>440</th>\n",
       "      <td>TABOCAO-TO</td>\n",
       "      <td>left_only</td>\n",
       "    </tr>\n",
       "    <tr>\n",
       "      <th>1076</th>\n",
       "      <td>ACU-RN</td>\n",
       "      <td>left_only</td>\n",
       "    </tr>\n",
       "    <tr>\n",
       "      <th>1132</th>\n",
       "      <td>JANUARIO CICCO-RN</td>\n",
       "      <td>left_only</td>\n",
       "    </tr>\n",
       "    <tr>\n",
       "      <th>1165</th>\n",
       "      <td>OLHO D'AGUA DO BORGES-RN</td>\n",
       "      <td>left_only</td>\n",
       "    </tr>\n",
       "    <tr>\n",
       "      <th>1419</th>\n",
       "      <td>SAO DOMINGOS-PB</td>\n",
       "      <td>left_only</td>\n",
       "    </tr>\n",
       "    <tr>\n",
       "      <th>1482</th>\n",
       "      <td>BELEM DO SAO FRANCISCO-PE</td>\n",
       "      <td>left_only</td>\n",
       "    </tr>\n",
       "    <tr>\n",
       "      <th>1540</th>\n",
       "      <td>IGUARACY-PE</td>\n",
       "      <td>left_only</td>\n",
       "    </tr>\n",
       "    <tr>\n",
       "      <th>1561</th>\n",
       "      <td>LAGOA DE ITAENGA-PE</td>\n",
       "      <td>left_only</td>\n",
       "    </tr>\n",
       "    <tr>\n",
       "      <th>1752</th>\n",
       "      <td>AMPARO DO SAO FRANCISCO-SE</td>\n",
       "      <td>left_only</td>\n",
       "    </tr>\n",
       "    <tr>\n",
       "      <th>2095</th>\n",
       "      <td>MUQUEM DO SAO FRANCISCO-BA</td>\n",
       "      <td>left_only</td>\n",
       "    </tr>\n",
       "    <tr>\n",
       "      <th>2171</th>\n",
       "      <td>SANTA TEREZINHA-BA</td>\n",
       "      <td>left_only</td>\n",
       "    </tr>\n",
       "    <tr>\n",
       "      <th>2271</th>\n",
       "      <td>AMPARO DO SERRA-MG</td>\n",
       "      <td>left_only</td>\n",
       "    </tr>\n",
       "    <tr>\n",
       "      <th>2303</th>\n",
       "      <td>BARAO DE MONTE ALTO-MG</td>\n",
       "      <td>left_only</td>\n",
       "    </tr>\n",
       "    <tr>\n",
       "      <th>2339</th>\n",
       "      <td>BRAZOPOLIS-MG</td>\n",
       "      <td>left_only</td>\n",
       "    </tr>\n",
       "    <tr>\n",
       "      <th>2500</th>\n",
       "      <td>DONA EUZEBIA-MG</td>\n",
       "      <td>left_only</td>\n",
       "    </tr>\n",
       "    <tr>\n",
       "      <th>2801</th>\n",
       "      <td>PASSA VINTE-MG</td>\n",
       "      <td>left_only</td>\n",
       "    </tr>\n",
       "    <tr>\n",
       "      <th>3227</th>\n",
       "      <td>PARATY-RJ</td>\n",
       "      <td>left_only</td>\n",
       "    </tr>\n",
       "    <tr>\n",
       "      <th>3261</th>\n",
       "      <td>TRAJANO DE MORAES-RJ</td>\n",
       "      <td>left_only</td>\n",
       "    </tr>\n",
       "    <tr>\n",
       "      <th>3341</th>\n",
       "      <td>BIRITIBA MIRIM-SP</td>\n",
       "      <td>left_only</td>\n",
       "    </tr>\n",
       "    <tr>\n",
       "      <th>3435</th>\n",
       "      <td>EMBU DAS ARTES-SP</td>\n",
       "      <td>left_only</td>\n",
       "    </tr>\n",
       "    <tr>\n",
       "      <th>3453</th>\n",
       "      <td>FLORINEA-SP</td>\n",
       "      <td>left_only</td>\n",
       "    </tr>\n",
       "    <tr>\n",
       "      <th>3614</th>\n",
       "      <td>MOGI MIRIM-SP</td>\n",
       "      <td>left_only</td>\n",
       "    </tr>\n",
       "    <tr>\n",
       "      <th>4139</th>\n",
       "      <td>MUNHOZ DE MELO-PR</td>\n",
       "      <td>left_only</td>\n",
       "    </tr>\n",
       "    <tr>\n",
       "      <th>4234</th>\n",
       "      <td>SANTA CRUZ DE MONTE CASTELO-PR</td>\n",
       "      <td>left_only</td>\n",
       "    </tr>\n",
       "    <tr>\n",
       "      <th>4340</th>\n",
       "      <td>BALNEARIO PICARRAS-SC</td>\n",
       "      <td>left_only</td>\n",
       "    </tr>\n",
       "    <tr>\n",
       "      <th>4410</th>\n",
       "      <td>GRAO-PARA-SC</td>\n",
       "      <td>left_only</td>\n",
       "    </tr>\n",
       "    <tr>\n",
       "      <th>4519</th>\n",
       "      <td>PRESIDENTE CASTELLO BRANCO-SC</td>\n",
       "      <td>left_only</td>\n",
       "    </tr>\n",
       "    <tr>\n",
       "      <th>4977</th>\n",
       "      <td>SANT'ANA DO LIVRAMENTO-RS</td>\n",
       "      <td>left_only</td>\n",
       "    </tr>\n",
       "    <tr>\n",
       "      <th>5283</th>\n",
       "      <td>POXOREU-MT</td>\n",
       "      <td>left_only</td>\n",
       "    </tr>\n",
       "    <tr>\n",
       "      <th>5356</th>\n",
       "      <td>BOM JESUS DE GOIAS-GO</td>\n",
       "      <td>left_only</td>\n",
       "    </tr>\n",
       "    <tr>\n",
       "      <th>5570</th>\n",
       "      <td>AMPARO DA SERRA-MG</td>\n",
       "      <td>right_only</td>\n",
       "    </tr>\n",
       "    <tr>\n",
       "      <th>5571</th>\n",
       "      <td>AMPARO DE SAO FRANCISCO-SE</td>\n",
       "      <td>right_only</td>\n",
       "    </tr>\n",
       "    <tr>\n",
       "      <th>5572</th>\n",
       "      <td>ASSIS CHATEAUBRIAND-PB</td>\n",
       "      <td>right_only</td>\n",
       "    </tr>\n",
       "    <tr>\n",
       "      <th>5573</th>\n",
       "      <td>ASSU-RN</td>\n",
       "      <td>right_only</td>\n",
       "    </tr>\n",
       "    <tr>\n",
       "      <th>5574</th>\n",
       "      <td>BALNEARIO DE PICARRAS-SC</td>\n",
       "      <td>right_only</td>\n",
       "    </tr>\n",
       "    <tr>\n",
       "      <th>5575</th>\n",
       "      <td>BARAO DO MONTE ALTO-MG</td>\n",
       "      <td>right_only</td>\n",
       "    </tr>\n",
       "    <tr>\n",
       "      <th>5576</th>\n",
       "      <td>BELEM DE SAO FRANCISCO-PE</td>\n",
       "      <td>right_only</td>\n",
       "    </tr>\n",
       "    <tr>\n",
       "      <th>5577</th>\n",
       "      <td>BIRITIBA-MIRIM-SP</td>\n",
       "      <td>right_only</td>\n",
       "    </tr>\n",
       "    <tr>\n",
       "      <th>5578</th>\n",
       "      <td>BOA SAUDE-RN</td>\n",
       "      <td>right_only</td>\n",
       "    </tr>\n",
       "    <tr>\n",
       "      <th>5579</th>\n",
       "      <td>BOM JESUS-GO</td>\n",
       "      <td>right_only</td>\n",
       "    </tr>\n",
       "    <tr>\n",
       "      <th>5580</th>\n",
       "      <td>BRASOPOLIS-MG</td>\n",
       "      <td>right_only</td>\n",
       "    </tr>\n",
       "    <tr>\n",
       "      <th>5581</th>\n",
       "      <td>CAMPO DE SANTANA-PB</td>\n",
       "      <td>right_only</td>\n",
       "    </tr>\n",
       "    <tr>\n",
       "      <th>5582</th>\n",
       "      <td>DONA EUSEBIA-MG</td>\n",
       "      <td>right_only</td>\n",
       "    </tr>\n",
       "    <tr>\n",
       "      <th>5583</th>\n",
       "      <td>ELDORADO DOS CARAJAS-PA</td>\n",
       "      <td>right_only</td>\n",
       "    </tr>\n",
       "    <tr>\n",
       "      <th>5584</th>\n",
       "      <td>EMBU-SP</td>\n",
       "      <td>right_only</td>\n",
       "    </tr>\n",
       "    <tr>\n",
       "      <th>5585</th>\n",
       "      <td>EXTERIOR-EX</td>\n",
       "      <td>right_only</td>\n",
       "    </tr>\n",
       "    <tr>\n",
       "      <th>5586</th>\n",
       "      <td>FLORINIA-SP</td>\n",
       "      <td>right_only</td>\n",
       "    </tr>\n",
       "    <tr>\n",
       "      <th>5587</th>\n",
       "      <td>FORTALEZA DO TABOCAO-TO</td>\n",
       "      <td>right_only</td>\n",
       "    </tr>\n",
       "    <tr>\n",
       "      <th>5588</th>\n",
       "      <td>GRAO PARA-SC</td>\n",
       "      <td>right_only</td>\n",
       "    </tr>\n",
       "    <tr>\n",
       "      <th>5589</th>\n",
       "      <td>IGUARACI-PE</td>\n",
       "      <td>right_only</td>\n",
       "    </tr>\n",
       "    <tr>\n",
       "      <th>5590</th>\n",
       "      <td>LAGOA DO ITAENGA-PE</td>\n",
       "      <td>right_only</td>\n",
       "    </tr>\n",
       "    <tr>\n",
       "      <th>5591</th>\n",
       "      <td>LIVRAMENTO DO BRUMADO-BA</td>\n",
       "      <td>right_only</td>\n",
       "    </tr>\n",
       "    <tr>\n",
       "      <th>5592</th>\n",
       "      <td>MOGI-MIRIM-SP</td>\n",
       "      <td>right_only</td>\n",
       "    </tr>\n",
       "    <tr>\n",
       "      <th>5593</th>\n",
       "      <td>MUNHOZ DE MELLO-PR</td>\n",
       "      <td>right_only</td>\n",
       "    </tr>\n",
       "    <tr>\n",
       "      <th>5594</th>\n",
       "      <td>MUQUEM DE SAO FRANCISCO-BA</td>\n",
       "      <td>right_only</td>\n",
       "    </tr>\n",
       "    <tr>\n",
       "      <th>5595</th>\n",
       "      <td>OLHO D'AGUA DOS BORGES-RN</td>\n",
       "      <td>right_only</td>\n",
       "    </tr>\n",
       "    <tr>\n",
       "      <th>5596</th>\n",
       "      <td>PARATI-RJ</td>\n",
       "      <td>right_only</td>\n",
       "    </tr>\n",
       "    <tr>\n",
       "      <th>5597</th>\n",
       "      <td>PASSA-VINTE-MG</td>\n",
       "      <td>right_only</td>\n",
       "    </tr>\n",
       "    <tr>\n",
       "      <th>5598</th>\n",
       "      <td>POXOREO-MT</td>\n",
       "      <td>right_only</td>\n",
       "    </tr>\n",
       "    <tr>\n",
       "      <th>5599</th>\n",
       "      <td>PRESIDENTE CASTELO BRANCO-SC</td>\n",
       "      <td>right_only</td>\n",
       "    </tr>\n",
       "    <tr>\n",
       "      <th>5600</th>\n",
       "      <td>SANTA CRUZ DO MONTE CASTELO-PR</td>\n",
       "      <td>right_only</td>\n",
       "    </tr>\n",
       "    <tr>\n",
       "      <th>5601</th>\n",
       "      <td>SANTA ISABEL DO PARA-PA</td>\n",
       "      <td>right_only</td>\n",
       "    </tr>\n",
       "    <tr>\n",
       "      <th>5602</th>\n",
       "      <td>SANTA TERESINHA-BA</td>\n",
       "      <td>right_only</td>\n",
       "    </tr>\n",
       "    <tr>\n",
       "      <th>5603</th>\n",
       "      <td>SANTANA DO LIVRAMENTO-RS</td>\n",
       "      <td>right_only</td>\n",
       "    </tr>\n",
       "    <tr>\n",
       "      <th>5604</th>\n",
       "      <td>SANTAREM-PB</td>\n",
       "      <td>right_only</td>\n",
       "    </tr>\n",
       "    <tr>\n",
       "      <th>5605</th>\n",
       "      <td>SAO DOMINGOS DE POMBAL-PB</td>\n",
       "      <td>right_only</td>\n",
       "    </tr>\n",
       "    <tr>\n",
       "      <th>5606</th>\n",
       "      <td>SAO VALERIO DA NATIVIDADE-TO</td>\n",
       "      <td>right_only</td>\n",
       "    </tr>\n",
       "    <tr>\n",
       "      <th>5607</th>\n",
       "      <td>TRAJANO DE MORAIS-RJ</td>\n",
       "      <td>right_only</td>\n",
       "    </tr>\n",
       "    <tr>\n",
       "      <th>5608</th>\n",
       "      <td>ZERADO--</td>\n",
       "      <td>right_only</td>\n",
       "    </tr>\n",
       "  </tbody>\n",
       "</table>\n",
       "</div>"
      ],
      "text/plain": [
       "                        municipio-uf      _merge\n",
       "197           ELDORADO DO CARAJAS-PA   left_only\n",
       "259          SANTA IZABEL DO PARA-PA   left_only\n",
       "436                   SAO VALERIO-TO   left_only\n",
       "440                       TABOCAO-TO   left_only\n",
       "1076                          ACU-RN   left_only\n",
       "1132               JANUARIO CICCO-RN   left_only\n",
       "1165        OLHO D'AGUA DO BORGES-RN   left_only\n",
       "1419                 SAO DOMINGOS-PB   left_only\n",
       "1482       BELEM DO SAO FRANCISCO-PE   left_only\n",
       "1540                     IGUARACY-PE   left_only\n",
       "1561             LAGOA DE ITAENGA-PE   left_only\n",
       "1752      AMPARO DO SAO FRANCISCO-SE   left_only\n",
       "2095      MUQUEM DO SAO FRANCISCO-BA   left_only\n",
       "2171              SANTA TEREZINHA-BA   left_only\n",
       "2271              AMPARO DO SERRA-MG   left_only\n",
       "2303          BARAO DE MONTE ALTO-MG   left_only\n",
       "2339                   BRAZOPOLIS-MG   left_only\n",
       "2500                 DONA EUZEBIA-MG   left_only\n",
       "2801                  PASSA VINTE-MG   left_only\n",
       "3227                       PARATY-RJ   left_only\n",
       "3261            TRAJANO DE MORAES-RJ   left_only\n",
       "3341               BIRITIBA MIRIM-SP   left_only\n",
       "3435               EMBU DAS ARTES-SP   left_only\n",
       "3453                     FLORINEA-SP   left_only\n",
       "3614                   MOGI MIRIM-SP   left_only\n",
       "4139               MUNHOZ DE MELO-PR   left_only\n",
       "4234  SANTA CRUZ DE MONTE CASTELO-PR   left_only\n",
       "4340           BALNEARIO PICARRAS-SC   left_only\n",
       "4410                    GRAO-PARA-SC   left_only\n",
       "4519   PRESIDENTE CASTELLO BRANCO-SC   left_only\n",
       "4977       SANT'ANA DO LIVRAMENTO-RS   left_only\n",
       "5283                      POXOREU-MT   left_only\n",
       "5356           BOM JESUS DE GOIAS-GO   left_only\n",
       "5570              AMPARO DA SERRA-MG  right_only\n",
       "5571      AMPARO DE SAO FRANCISCO-SE  right_only\n",
       "5572          ASSIS CHATEAUBRIAND-PB  right_only\n",
       "5573                         ASSU-RN  right_only\n",
       "5574        BALNEARIO DE PICARRAS-SC  right_only\n",
       "5575          BARAO DO MONTE ALTO-MG  right_only\n",
       "5576       BELEM DE SAO FRANCISCO-PE  right_only\n",
       "5577               BIRITIBA-MIRIM-SP  right_only\n",
       "5578                    BOA SAUDE-RN  right_only\n",
       "5579                    BOM JESUS-GO  right_only\n",
       "5580                   BRASOPOLIS-MG  right_only\n",
       "5581             CAMPO DE SANTANA-PB  right_only\n",
       "5582                 DONA EUSEBIA-MG  right_only\n",
       "5583         ELDORADO DOS CARAJAS-PA  right_only\n",
       "5584                         EMBU-SP  right_only\n",
       "5585                     EXTERIOR-EX  right_only\n",
       "5586                     FLORINIA-SP  right_only\n",
       "5587         FORTALEZA DO TABOCAO-TO  right_only\n",
       "5588                    GRAO PARA-SC  right_only\n",
       "5589                     IGUARACI-PE  right_only\n",
       "5590             LAGOA DO ITAENGA-PE  right_only\n",
       "5591        LIVRAMENTO DO BRUMADO-BA  right_only\n",
       "5592                   MOGI-MIRIM-SP  right_only\n",
       "5593              MUNHOZ DE MELLO-PR  right_only\n",
       "5594      MUQUEM DE SAO FRANCISCO-BA  right_only\n",
       "5595       OLHO D'AGUA DOS BORGES-RN  right_only\n",
       "5596                       PARATI-RJ  right_only\n",
       "5597                  PASSA-VINTE-MG  right_only\n",
       "5598                      POXOREO-MT  right_only\n",
       "5599    PRESIDENTE CASTELO BRANCO-SC  right_only\n",
       "5600  SANTA CRUZ DO MONTE CASTELO-PR  right_only\n",
       "5601         SANTA ISABEL DO PARA-PA  right_only\n",
       "5602              SANTA TERESINHA-BA  right_only\n",
       "5603        SANTANA DO LIVRAMENTO-RS  right_only\n",
       "5604                     SANTAREM-PB  right_only\n",
       "5605       SAO DOMINGOS DE POMBAL-PB  right_only\n",
       "5606    SAO VALERIO DA NATIVIDADE-TO  right_only\n",
       "5607            TRAJANO DE MORAIS-RJ  right_only\n",
       "5608                        ZERADO--  right_only"
      ]
     },
     "execution_count": 12,
     "metadata": {},
     "output_type": "execute_result"
    }
   ],
   "source": [
    "# Iniciamos com um outer join para identificar as ocorrências que não são mútuas entre as tabelas originais\n",
    "print ('Shape de IBGE_municipios',IBGE_municipios.shape)\n",
    "print ('Shape de arrecadacao_2018',arrecadacao_2018.shape)\n",
    "Merge_01 =  pd.merge(IBGE_municipios['municipio-uf'], arrecadacao_2018['municipio-uf'],how=\"outer\", on='municipio-uf',indicator=True,suffixes=('_tab1','_tab2'))\n",
    "Merge_01.shape\n",
    "print ('Shape de  merge_01', Merge_01.shape)\n",
    "\n",
    "## Identificando as divergências\n",
    "diferencas=Merge_01[Merge_01['_merge']!='both']\n",
    "print(\"\\n\", \"Diferenças encontradas\", diferencas.shape)\n",
    "print (diferencas['_merge'].value_counts())\n",
    "diferencas"
   ]
  },
  {
   "cell_type": "markdown",
   "metadata": {},
   "source": [
    "Nota-se que há, a princípio, 33 municípios que aparecem somente em PIB_municipios (indicados com o 'left_only') e outros 39 municípios que aparecem apenas em arrecadacao_2018 (indicados com 'right_only').\n",
    "\n",
    "Uma análise mais detida, porém, mostra que parte das inconsistências se dá por divergência de grafia (por exemplo: ACU-RN vs. ASSU-RN, ou GRAO-PARA-SC vs. GRAO PARA-SC) ou por uma mudança mais significativa de nomenclaruta (como TABOCAO-TO vs. FORTALEZA DO TABOCAO-TO, ou EMBU DAS ARTES-SP vs. EMBU-SP). Há ainda situação curiosa de município com alteração total de seu nome (como o município de 'AUGUSTO SEVERO-RN' que passou a se chamar 'CAMPO GRANDE-RN')\n",
    "\n",
    "Faremos, então, esses ajustes de grafia. Como privilegiaremos o contido em IBGE_municipios, alteraremos sempre a grafia do dataframe à direita no merge.\n",
    "\n",
    "Há uma situação interessante: oficialmente, o município de 'BOA SAUDE-RN', que passou a se chamar 'JANUARIO CICCO' em 1953 (quando elevado a município).Emenda da Câmara Municipal n.º 01, de 02-02-1991, porém, retornou seu noe para BOA SAUDE, mas como não houve até o momento homologação por Lei Estadual, o IBGE desconsidera essa alteração. Porém todas as referências são para Boa Saúde (RN) - vide o site da prefeitura local http://www.boasaude.rn.gov.br/historia-do-municipio.html. Como estamos privilegiando o definido pelo IBGE, manteremos JANUARIO CICCO."
   ]
  },
  {
   "cell_type": "code",
   "execution_count": 13,
   "metadata": {},
   "outputs": [],
   "source": [
    "# Como no merge1 o dataframe à direita é arrecadacao_2018, será nele que faremos as adequações.\n",
    "arrecadacao_2018['municipio-uf'] = arrecadacao_2018['municipio-uf'].apply(corrigir_nomes_municipios)"
   ]
  },
  {
   "cell_type": "markdown",
   "metadata": {},
   "source": [
    "Outra inconsistência diz respeito ao município de 'ASSIS CHATEAUBRIAND - PB' que passou a se chamar 'RIACHAO DO BACAMARTE-PB'. Ocorre que em arrecadacao_2018 há informação de valores arrecadados para essas duas ocorrências. Somaremos então os dois valores, atribuiremos o resultado a 'RIACHAO DO BACAMARTE-PB' e excluiremos 'ASSIS CHATEAUBRIAND - PB'. \n",
    "\n",
    "O mesmo ocorre com CAMPO DE SANTANA-PB e TACIMA-PB; e com LIVRAMENTO DO BRUMADO - BA e LIVRAMENTO DE NOSSA SENHORA -BA; e SANTAREM-PB e JOCA CLAUDINO-PB- serão mantidos os últimos e lhes atribuído a soma das arrecadacações."
   ]
  },
  {
   "cell_type": "code",
   "execution_count": 14,
   "metadata": {},
   "outputs": [
    {
     "name": "stdout",
     "output_type": "stream",
     "text": [
      "\n",
      " ('RIACHAO DO BACAMARTE-PB', 'ASSIS CHATEAUBRIAND-PB')\n",
      "RIACHAO DO BACAMARTE-PB  -  422067.12\n",
      "ASSIS CHATEAUBRIAND-PB  -  2696361.84000009\n",
      "Soma  -  3118428.9600000903\n",
      "Novo valor para RIACHAO DO BACAMARTE-PB  -  3118428.9600000903\n",
      "\n",
      " ('TACIMA-PB', 'CAMPO DE SANTANA-PB')\n",
      "TACIMA-PB  -  708332.35\n",
      "CAMPO DE SANTANA-PB  -  3574894.61000052\n",
      "Soma  -  4283226.96000052\n",
      "Novo valor para TACIMA-PB  -  4283226.96000052\n",
      "\n",
      " ('LIVRAMENTO DE NOSSA SENHORA-BA', 'LIVRAMENTO DO BRUMADO-BA')\n",
      "LIVRAMENTO DE NOSSA SENHORA-BA  -  12645132.32\n",
      "LIVRAMENTO DO BRUMADO-BA  -  12168718.809999\n",
      "Soma  -  24813851.129999\n",
      "Novo valor para LIVRAMENTO DE NOSSA SENHORA-BA  -  24813851.129999\n",
      "\n",
      " ('JOCA CLAUDINO-PB', 'SANTAREM-PB')\n",
      "JOCA CLAUDINO-PB  -  244080.8\n",
      "SANTAREM-PB  -  2029605.34000023\n",
      "Soma  -  2273686.1400002297\n",
      "Novo valor para JOCA CLAUDINO-PB  -  2273686.1400002297\n"
     ]
    }
   ],
   "source": [
    "municipios_atuais = ['RIACHAO DO BACAMARTE-PB','TACIMA-PB','LIVRAMENTO DE NOSSA SENHORA-BA','JOCA CLAUDINO-PB']\n",
    "municipios_extintos = ['ASSIS CHATEAUBRIAND-PB', 'CAMPO DE SANTANA-PB','LIVRAMENTO DO BRUMADO-BA','SANTAREM-PB']\n",
    "duplas=zip(municipios_atuais, municipios_extintos)\n",
    "\n",
    "for i in duplas:\n",
    "    print(\"\\n\",i)\n",
    "    \n",
    "    ind_1 = arrecadacao_2018.index[arrecadacao_2018['municipio-uf']==i[0]].tolist()\n",
    "    arrec_munic_1 = arrecadacao_2018.at[ind_1[0], '01_arrecadacao_2018']\n",
    "    print (i[0],\" - \",arrec_munic_1)\n",
    "    \n",
    "    ind_2 = arrecadacao_2018.index[arrecadacao_2018['municipio-uf']==i[1]].tolist()\n",
    "    arrec_munic_2 = arrecadacao_2018.at[ind_2[0], '01_arrecadacao_2018']\n",
    "    print (i[1],\" - \",arrec_munic_2)\n",
    "    \n",
    "    soma_arrec = arrec_munic_1.astype(float) + arrec_munic_2.astype(float)\n",
    "    print (\"Soma\",\" - \", soma_arrec)\n",
    "    \n",
    "    arrecadacao_2018.at[ind_1[0], '01_arrecadacao_2018'] = soma_arrec\n",
    "    print (\"Novo valor para\",i[0],\" - \",arrecadacao_2018.at[ind_1[0],'01_arrecadacao_2018'])    "
   ]
  },
  {
   "cell_type": "markdown",
   "metadata": {},
   "source": [
    "Por fim, as ocorrências 'EXTERIOR-EX' e 'ZERADO--' não são de interesse e serão excluídas quando refizermos o merge."
   ]
  },
  {
   "cell_type": "markdown",
   "metadata": {},
   "source": [
    "### Refazer o merge, mas agora como o left join.\n",
    "\n",
    "Saneadas as inconsistências acima, o Merge1 pode ser repetido, agora como LeftJoin de modo a mantermos todas as ocorrências de IBGE_municipios e apenas as ocorrências correspondentes em \"arrecadacao_2018\". Teremos, assim, mantidos os 5570 municípios."
   ]
  },
  {
   "cell_type": "code",
   "execution_count": 15,
   "metadata": {},
   "outputs": [
    {
     "name": "stdout",
     "output_type": "stream",
     "text": [
      "Shape de IBGE_municipios (5570, 14)\n",
      "Shape de arrecadacao_2018 (5576, 2)\n",
      "Shape de  merge_01 (5570, 3)\n"
     ]
    }
   ],
   "source": [
    "print ('Shape de IBGE_municipios',IBGE_municipios.shape)\n",
    "print ('Shape de arrecadacao_2018',arrecadacao_2018.shape)\n",
    "Merge_01 =  pd.merge(IBGE_municipios['municipio-uf'], arrecadacao_2018,how=\"left\", on='municipio-uf',indicator=True,suffixes=('_tab1','_tab2'))\n",
    "Merge_01.shape\n",
    "print ('Shape de  merge_01', Merge_01.shape)"
   ]
  },
  {
   "cell_type": "code",
   "execution_count": 16,
   "metadata": {},
   "outputs": [
    {
     "name": "stdout",
     "output_type": "stream",
     "text": [
      "Shape do dataframe: (5570, 3)\n",
      "Colunas que contêm valores faltantes: []\n",
      "Número de linhas com valores faltantes: 0 \n",
      "\n"
     ]
    },
    {
     "data": {
      "text/plain": [
       "[]"
      ]
     },
     "execution_count": 16,
     "metadata": {},
     "output_type": "execute_result"
    }
   ],
   "source": [
    "# Chama a função para identificar se há valores faltantes ou NaN.\n",
    "identificar_faltantes(Merge_01)"
   ]
  },
  {
   "cell_type": "code",
   "execution_count": 17,
   "metadata": {},
   "outputs": [
    {
     "data": {
      "text/plain": [
       "Index(['municipio-uf', '01_arrecadacao_2018'], dtype='object')"
      ]
     },
     "execution_count": 17,
     "metadata": {},
     "output_type": "execute_result"
    }
   ],
   "source": [
    "#Podemos apagar a coluna '_merge' criada pelo comando de mesmo nome.\n",
    "Merge_01 = Merge_01.drop('_merge', axis=1)\n",
    "Merge_01.columns"
   ]
  },
  {
   "cell_type": "markdown",
   "metadata": {},
   "source": [
    "\n",
    "\n",
    "## Merge 2 - 'Merge_01' e 'IBGE_Empresas'."
   ]
  },
  {
   "cell_type": "markdown",
   "metadata": {},
   "source": [
    "Como já conhecemos boa parte das divergências, já podemos iniciar os procedimentos pela regularização das grafias dos nomes de municípios."
   ]
  },
  {
   "cell_type": "code",
   "execution_count": 18,
   "metadata": {},
   "outputs": [],
   "source": [
    "# Como no merge1 o dataframe à direita é arrecadacao_2018, será nele que faremos as adequações.\n",
    "IBGE_Empresas['municipio-uf'] = IBGE_Empresas['municipio-uf'].apply(corrigir_nomes_municipios)"
   ]
  },
  {
   "cell_type": "markdown",
   "metadata": {},
   "source": [
    "Seguimos fazendo um merge ('outer') para identificar eventuais divergências."
   ]
  },
  {
   "cell_type": "code",
   "execution_count": 19,
   "metadata": {},
   "outputs": [
    {
     "name": "stdout",
     "output_type": "stream",
     "text": [
      "Shape de Merge_01 (5570, 2)\n",
      "Shape de IBGE_Empresas (5570, 8)\n",
      "Shape de  merge_02 (5570, 2)\n",
      "\n",
      " Diferenças encontradas (0, 2)\n",
      "both          0\n",
      "right_only    0\n",
      "left_only     0\n",
      "Name: _merge, dtype: int64\n"
     ]
    },
    {
     "data": {
      "text/html": [
       "<div>\n",
       "<style scoped>\n",
       "    .dataframe tbody tr th:only-of-type {\n",
       "        vertical-align: middle;\n",
       "    }\n",
       "\n",
       "    .dataframe tbody tr th {\n",
       "        vertical-align: top;\n",
       "    }\n",
       "\n",
       "    .dataframe thead th {\n",
       "        text-align: right;\n",
       "    }\n",
       "</style>\n",
       "<table border=\"1\" class=\"dataframe\">\n",
       "  <thead>\n",
       "    <tr style=\"text-align: right;\">\n",
       "      <th></th>\n",
       "      <th>municipio-uf</th>\n",
       "      <th>_merge</th>\n",
       "    </tr>\n",
       "  </thead>\n",
       "  <tbody>\n",
       "  </tbody>\n",
       "</table>\n",
       "</div>"
      ],
      "text/plain": [
       "Empty DataFrame\n",
       "Columns: [municipio-uf, _merge]\n",
       "Index: []"
      ]
     },
     "execution_count": 19,
     "metadata": {},
     "output_type": "execute_result"
    }
   ],
   "source": [
    "# Iniciamos com um outer join para identificar as ocorrências que não são mútuas entre as tabelas originais\n",
    "print ('Shape de Merge_01',Merge_01.shape)\n",
    "print ('Shape de IBGE_Empresas',IBGE_Empresas.shape)\n",
    "Merge_02 =  pd.merge(Merge_01['municipio-uf'], IBGE_Empresas['municipio-uf'],how=\"outer\", on='municipio-uf',indicator=True,suffixes=('_tab1','_tab2'))\n",
    "Merge_02.shape\n",
    "print ('Shape de  merge_02', Merge_02.shape)\n",
    "\n",
    "## Identificando as divergências\n",
    "diferencas=Merge_02[Merge_02['_merge']!='both']\n",
    "print(\"\\n\", \"Diferenças encontradas\", diferencas.shape)\n",
    "print (diferencas['_merge'].value_counts())\n",
    "diferencas"
   ]
  },
  {
   "cell_type": "markdown",
   "metadata": {},
   "source": [
    "Não há divergências. Podemos fazer o merge definitivo."
   ]
  },
  {
   "cell_type": "markdown",
   "metadata": {},
   "source": [
    "### Refazer o merge, mas agora como o left join.\n",
    "\n",
    "Não havendo divergências remanescentes, o Merge pode ser repetido, agora como LeftJoin de modo a mantermos todas as ocorrências de 'Merge_01' e apenas as ocorrências correspondentes em \"IBGE_Empresas\". Teremos, assim, mantidos os 5570 municípios."
   ]
  },
  {
   "cell_type": "code",
   "execution_count": 20,
   "metadata": {},
   "outputs": [
    {
     "name": "stdout",
     "output_type": "stream",
     "text": [
      "Shape de Merge_01 (5570, 2)\n",
      "Shape de IBGE_Empresas (5570, 8)\n",
      "Shape de  merge_02 (5570, 10)\n"
     ]
    }
   ],
   "source": [
    "print ('Shape de Merge_01', Merge_01.shape)\n",
    "print ('Shape de IBGE_Empresas',IBGE_Empresas.shape)\n",
    "Merge_02 =  pd.merge(Merge_01, IBGE_Empresas,how=\"left\", on='municipio-uf',indicator=True,suffixes=('_tab1','_tab2'))\n",
    "Merge_02.shape\n",
    "print ('Shape de  merge_02', Merge_02.shape)"
   ]
  },
  {
   "cell_type": "code",
   "execution_count": 21,
   "metadata": {},
   "outputs": [
    {
     "name": "stdout",
     "output_type": "stream",
     "text": [
      "Shape do dataframe: (5570, 2)\n",
      "Colunas que contêm valores faltantes: []\n",
      "Número de linhas com valores faltantes: 0 \n",
      "\n"
     ]
    },
    {
     "data": {
      "text/plain": [
       "[]"
      ]
     },
     "execution_count": 21,
     "metadata": {},
     "output_type": "execute_result"
    }
   ],
   "source": [
    "# Chama a função para identificar se há valores faltantes ou NaN.\n",
    "identificar_faltantes(Merge_01)"
   ]
  },
  {
   "cell_type": "code",
   "execution_count": 22,
   "metadata": {},
   "outputs": [
    {
     "data": {
      "text/plain": [
       "Index(['municipio-uf', '01_arrecadacao_2018', '02_unidades',\n",
       "       '02_unidades_atuantes_%', '02_ocupados_total',\n",
       "       '02_ocupados_assalariados_%', '02_ocupados_assalariados_medio',\n",
       "       '02_salario_medio_mensal_em_SM', '02_salario_medio_mensal_em_Reais'],\n",
       "      dtype='object')"
      ]
     },
     "execution_count": 22,
     "metadata": {},
     "output_type": "execute_result"
    }
   ],
   "source": [
    "#Podemos apagar a coluna '_merge' criada pelo comando de mesmo nome.\n",
    "Merge_02 = Merge_02.drop('_merge', axis=1)\n",
    "Merge_02.columns"
   ]
  },
  {
   "cell_type": "markdown",
   "metadata": {},
   "source": [
    "## Merge 3 - 'Merge_02' e 'IBGE_PIB'.\n",
    "\n",
    "Como já conhecemos boa parte das divergências, já podemos iniciar os procedimentos pela regularização das grafias dos nomes de municípios."
   ]
  },
  {
   "cell_type": "code",
   "execution_count": 23,
   "metadata": {},
   "outputs": [],
   "source": [
    "# Como no merge1 o dataframe à direita é arrecadacao_2018, será nele que faremos as adequações.\n",
    "IBGE_PIB['municipio-uf'] = IBGE_PIB['municipio-uf'].apply(corrigir_nomes_municipios)"
   ]
  },
  {
   "cell_type": "markdown",
   "metadata": {},
   "source": [
    "Seguimos fazendo um merge ('outer') para identificar eventuais divergências."
   ]
  },
  {
   "cell_type": "code",
   "execution_count": 24,
   "metadata": {},
   "outputs": [
    {
     "name": "stdout",
     "output_type": "stream",
     "text": [
      "Shape de Merge_02 (5570, 9)\n",
      "Shape de IBGE_PIB (5570, 20)\n",
      "Shape de  merge_03 (5570, 2)\n",
      "\n",
      " Diferenças encontradas (0, 2)\n",
      "both          0\n",
      "right_only    0\n",
      "left_only     0\n",
      "Name: _merge, dtype: int64\n"
     ]
    },
    {
     "data": {
      "text/html": [
       "<div>\n",
       "<style scoped>\n",
       "    .dataframe tbody tr th:only-of-type {\n",
       "        vertical-align: middle;\n",
       "    }\n",
       "\n",
       "    .dataframe tbody tr th {\n",
       "        vertical-align: top;\n",
       "    }\n",
       "\n",
       "    .dataframe thead th {\n",
       "        text-align: right;\n",
       "    }\n",
       "</style>\n",
       "<table border=\"1\" class=\"dataframe\">\n",
       "  <thead>\n",
       "    <tr style=\"text-align: right;\">\n",
       "      <th></th>\n",
       "      <th>municipio-uf</th>\n",
       "      <th>_merge</th>\n",
       "    </tr>\n",
       "  </thead>\n",
       "  <tbody>\n",
       "  </tbody>\n",
       "</table>\n",
       "</div>"
      ],
      "text/plain": [
       "Empty DataFrame\n",
       "Columns: [municipio-uf, _merge]\n",
       "Index: []"
      ]
     },
     "execution_count": 24,
     "metadata": {},
     "output_type": "execute_result"
    }
   ],
   "source": [
    "# Iniciamos com um outer join para identificar as ocorrências que não são mútuas entre as tabelas originais\n",
    "print ('Shape de Merge_02',Merge_02.shape)\n",
    "print ('Shape de IBGE_PIB',IBGE_PIB.shape)\n",
    "Merge_03 =  pd.merge(Merge_02['municipio-uf'], IBGE_PIB['municipio-uf'],how=\"outer\", on='municipio-uf',indicator=True,suffixes=('_tab1','_tab2'))\n",
    "Merge_02.shape\n",
    "print ('Shape de  merge_03', Merge_03.shape)\n",
    "\n",
    "## Identificando as divergências\n",
    "diferencas=Merge_03[Merge_03['_merge']!='both']\n",
    "print(\"\\n\", \"Diferenças encontradas\", diferencas.shape)\n",
    "print (diferencas['_merge'].value_counts())\n",
    "diferencas"
   ]
  },
  {
   "cell_type": "markdown",
   "metadata": {},
   "source": [
    "Não há divergências. Podemos fazer o merge definitivo."
   ]
  },
  {
   "cell_type": "markdown",
   "metadata": {},
   "source": [
    "### Refazer o merge, mas agora como o left join.\n",
    "\n",
    "Não havendo divergências remanescentes, o Merge pode ser repetido, agora como LeftJoin de modo a mantermos todas as ocorrências de 'Merge_02' e apenas as ocorrências correspondentes em \"IBGE_PIB\". Teremos, assim, mantidos os 5570 municípios."
   ]
  },
  {
   "cell_type": "code",
   "execution_count": 25,
   "metadata": {},
   "outputs": [
    {
     "name": "stdout",
     "output_type": "stream",
     "text": [
      "Shape de Merge_02 (5570, 9)\n",
      "Shape de IBGE_PIB (5570, 20)\n",
      "Shape de  merge_03 (5570, 29)\n"
     ]
    }
   ],
   "source": [
    "print ('Shape de Merge_02', Merge_02.shape)\n",
    "print ('Shape de IBGE_PIB',IBGE_PIB.shape)\n",
    "Merge_03 =  pd.merge(Merge_02, IBGE_PIB,how=\"left\", on='municipio-uf',indicator=True,suffixes=('_tab1','_tab2'))\n",
    "Merge_03.shape\n",
    "print ('Shape de  merge_03', Merge_03.shape)"
   ]
  },
  {
   "cell_type": "code",
   "execution_count": 26,
   "metadata": {},
   "outputs": [
    {
     "name": "stdout",
     "output_type": "stream",
     "text": [
      "Shape do dataframe: (5570, 9)\n",
      "Colunas que contêm valores faltantes: []\n",
      "Número de linhas com valores faltantes: 0 \n",
      "\n"
     ]
    },
    {
     "data": {
      "text/plain": [
       "[]"
      ]
     },
     "execution_count": 26,
     "metadata": {},
     "output_type": "execute_result"
    }
   ],
   "source": [
    "# Chama a função para identificar se há valores faltantes ou NaN.\n",
    "identificar_faltantes(Merge_02)"
   ]
  },
  {
   "cell_type": "code",
   "execution_count": 27,
   "metadata": {},
   "outputs": [
    {
     "data": {
      "text/plain": [
       "Index(['municipio-uf', '01_arrecadacao_2018', '02_unidades',\n",
       "       '02_unidades_atuantes_%', '02_ocupados_total',\n",
       "       '02_ocupados_assalariados_%', '02_ocupados_assalariados_medio',\n",
       "       '02_salario_medio_mensal_em_SM', '02_salario_medio_mensal_em_Reais',\n",
       "       '03_nome_uf', '03_uf', '03_cod_municipio', '03_grande_regiao',\n",
       "       '03_mesorregiao', '03_microregiao', '03_regiao_imediata',\n",
       "       '03_regiao_intermediaria', '03_vlr_adic_bruto_total',\n",
       "       '03_vlr_adic_bruto_agropecuaria_%', '03_vlr_adic_bruto_industria_%',\n",
       "       '03_vlr_adic_bruto_servicos_%', '03_vlr_adic_bruto_administracao_%',\n",
       "       '03_impostos_sobre_produtos', '03_pib', '03_pib_per_capita',\n",
       "       '03_atividade_principal_primeira', '03_atividade_principal_segunda',\n",
       "       '03_atividade_principal_terceira'],\n",
       "      dtype='object')"
      ]
     },
     "execution_count": 27,
     "metadata": {},
     "output_type": "execute_result"
    }
   ],
   "source": [
    "#Podemos apagar a coluna '_merge' criada pelo comando de mesmo nome.\n",
    "Merge_03 = Merge_03.drop('_merge', axis=1)\n",
    "Merge_03.columns"
   ]
  },
  {
   "cell_type": "markdown",
   "metadata": {},
   "source": [
    "\n",
    "## Merge 4 - 'Merge_03' e 'IBGE_Residentes'.\n",
    "\n",
    "Como já conhecemos boa parte das divergências, já podemos iniciar os procedimentos pela regularização das grafias dos nomes de municípios."
   ]
  },
  {
   "cell_type": "code",
   "execution_count": 28,
   "metadata": {},
   "outputs": [],
   "source": [
    "# Como no merge1 o dataframe à direita é arrecadacao_2018, será nele que faremos as adequações.\n",
    "IBGE_Residentes['municipio-uf'] = IBGE_Residentes['municipio-uf'].apply(corrigir_nomes_municipios)"
   ]
  },
  {
   "cell_type": "markdown",
   "metadata": {},
   "source": [
    "Seguimos fazendo um merge ('outer') para identificar eventuais divergências."
   ]
  },
  {
   "cell_type": "code",
   "execution_count": 29,
   "metadata": {},
   "outputs": [
    {
     "name": "stdout",
     "output_type": "stream",
     "text": [
      "Shape de Merge_03 (5570, 28)\n",
      "Shape de IBGE_Residentes (5570, 2)\n",
      "Shape de  merge_04 (5570, 2)\n",
      "\n",
      " Diferenças encontradas (0, 2)\n",
      "both          0\n",
      "right_only    0\n",
      "left_only     0\n",
      "Name: _merge, dtype: int64\n"
     ]
    },
    {
     "data": {
      "text/html": [
       "<div>\n",
       "<style scoped>\n",
       "    .dataframe tbody tr th:only-of-type {\n",
       "        vertical-align: middle;\n",
       "    }\n",
       "\n",
       "    .dataframe tbody tr th {\n",
       "        vertical-align: top;\n",
       "    }\n",
       "\n",
       "    .dataframe thead th {\n",
       "        text-align: right;\n",
       "    }\n",
       "</style>\n",
       "<table border=\"1\" class=\"dataframe\">\n",
       "  <thead>\n",
       "    <tr style=\"text-align: right;\">\n",
       "      <th></th>\n",
       "      <th>municipio-uf</th>\n",
       "      <th>_merge</th>\n",
       "    </tr>\n",
       "  </thead>\n",
       "  <tbody>\n",
       "  </tbody>\n",
       "</table>\n",
       "</div>"
      ],
      "text/plain": [
       "Empty DataFrame\n",
       "Columns: [municipio-uf, _merge]\n",
       "Index: []"
      ]
     },
     "execution_count": 29,
     "metadata": {},
     "output_type": "execute_result"
    }
   ],
   "source": [
    "# Iniciamos com um outer join para identificar as ocorrências que não são mútuas entre as tabelas originais\n",
    "print ('Shape de Merge_03',Merge_03.shape)\n",
    "print ('Shape de IBGE_Residentes',IBGE_Residentes.shape)\n",
    "Merge_04 =  pd.merge(Merge_03['municipio-uf'], IBGE_Residentes['municipio-uf'],how=\"outer\", on='municipio-uf',indicator=True,suffixes=('_tab1','_tab2'))\n",
    "Merge_04.shape\n",
    "print ('Shape de  merge_04', Merge_04.shape)\n",
    "\n",
    "## Identificando as divergências\n",
    "diferencas=Merge_04[Merge_04['_merge']!='both']\n",
    "print(\"\\n\", \"Diferenças encontradas\", diferencas.shape)\n",
    "print (diferencas['_merge'].value_counts())\n",
    "diferencas"
   ]
  },
  {
   "cell_type": "markdown",
   "metadata": {},
   "source": [
    "Não há divergências. Podemos fazer o merge definitivo."
   ]
  },
  {
   "cell_type": "markdown",
   "metadata": {},
   "source": [
    "### Refazer o merge, mas agora como o left join.\n",
    "\n",
    "Não havendo divergências remanescentes, o Merge pode ser repetido, agora como LeftJoin de modo a mantermos todas as ocorrências de 'Merge_03' e apenas as ocorrências correspondentes em \"IBGE_Residentes\". Teremos, assim, mantidos os 5570 municípios."
   ]
  },
  {
   "cell_type": "code",
   "execution_count": 30,
   "metadata": {},
   "outputs": [
    {
     "name": "stdout",
     "output_type": "stream",
     "text": [
      "Shape de Merge_03 (5570, 28)\n",
      "Shape de IBGE_Residentes (5570, 2)\n",
      "Shape de merge_04 (5570, 30)\n"
     ]
    }
   ],
   "source": [
    "print ('Shape de Merge_03', Merge_03.shape)\n",
    "print ('Shape de IBGE_Residentes',IBGE_Residentes.shape)\n",
    "Merge_04 =  pd.merge(Merge_03, IBGE_Residentes,how=\"left\", on='municipio-uf',indicator=True,suffixes=('_tab1','_tab2'))\n",
    "Merge_04.shape\n",
    "print ('Shape de merge_04', Merge_04.shape)"
   ]
  },
  {
   "cell_type": "code",
   "execution_count": 31,
   "metadata": {},
   "outputs": [
    {
     "name": "stdout",
     "output_type": "stream",
     "text": [
      "Shape do dataframe: (5570, 30)\n",
      "Colunas que contêm valores faltantes: []\n",
      "Número de linhas com valores faltantes: 0 \n",
      "\n"
     ]
    },
    {
     "data": {
      "text/plain": [
       "[]"
      ]
     },
     "execution_count": 31,
     "metadata": {},
     "output_type": "execute_result"
    }
   ],
   "source": [
    "# Chama a função para identificar se há valores faltantes ou NaN.\n",
    "identificar_faltantes(Merge_04)"
   ]
  },
  {
   "cell_type": "code",
   "execution_count": 32,
   "metadata": {},
   "outputs": [
    {
     "data": {
      "text/plain": [
       "Index(['municipio-uf', '01_arrecadacao_2018', '02_unidades',\n",
       "       '02_unidades_atuantes_%', '02_ocupados_total',\n",
       "       '02_ocupados_assalariados_%', '02_ocupados_assalariados_medio',\n",
       "       '02_salario_medio_mensal_em_SM', '02_salario_medio_mensal_em_Reais',\n",
       "       '03_nome_uf', '03_uf', '03_cod_municipio', '03_grande_regiao',\n",
       "       '03_mesorregiao', '03_microregiao', '03_regiao_imediata',\n",
       "       '03_regiao_intermediaria', '03_vlr_adic_bruto_total',\n",
       "       '03_vlr_adic_bruto_agropecuaria_%', '03_vlr_adic_bruto_industria_%',\n",
       "       '03_vlr_adic_bruto_servicos_%', '03_vlr_adic_bruto_administracao_%',\n",
       "       '03_impostos_sobre_produtos', '03_pib', '03_pib_per_capita',\n",
       "       '03_atividade_principal_primeira', '03_atividade_principal_segunda',\n",
       "       '03_atividade_principal_terceira', '04_populacao_residente_2018'],\n",
       "      dtype='object')"
      ]
     },
     "execution_count": 32,
     "metadata": {},
     "output_type": "execute_result"
    }
   ],
   "source": [
    "#Podemos apagar a coluna '_merge' criada pelo comando de mesmo nome.\n",
    "Merge_04 = Merge_04.drop('_merge', axis=1)\n",
    "Merge_04.columns"
   ]
  },
  {
   "cell_type": "markdown",
   "metadata": {},
   "source": [
    "\n",
    "## Merge 5 - 'Merge_04' e 'IBGE_Censo_Idade'.\n",
    "\n",
    "Como já conhecemos boa parte das divergências, já podemos iniciar os procedimentos pela regularização das grafias dos nomes de municípios."
   ]
  },
  {
   "cell_type": "code",
   "execution_count": 33,
   "metadata": {},
   "outputs": [],
   "source": [
    "# Como no merge1 o dataframe à direita é arrecadacao_2018, será nele que faremos as adequações.\n",
    "IBGE_Censo_Idade['municipio-uf'] = IBGE_Censo_Idade['municipio-uf'].apply(corrigir_nomes_municipios)"
   ]
  },
  {
   "cell_type": "markdown",
   "metadata": {},
   "source": [
    "Seguimos fazendo um merge ('outer') para identificar eventuais divergências."
   ]
  },
  {
   "cell_type": "code",
   "execution_count": 34,
   "metadata": {},
   "outputs": [
    {
     "name": "stdout",
     "output_type": "stream",
     "text": [
      "Shape de Merge_04 (5570, 29)\n",
      "Shape de IBGE_Censo_Idade (5565, 6)\n",
      "Shape de  merge_05 (5570, 2)\n",
      "\n",
      " Diferenças encontradas (5, 2)\n",
      "left_only     5\n",
      "both          0\n",
      "right_only    0\n",
      "Name: _merge, dtype: int64\n"
     ]
    },
    {
     "data": {
      "text/html": [
       "<div>\n",
       "<style scoped>\n",
       "    .dataframe tbody tr th:only-of-type {\n",
       "        vertical-align: middle;\n",
       "    }\n",
       "\n",
       "    .dataframe tbody tr th {\n",
       "        vertical-align: top;\n",
       "    }\n",
       "\n",
       "    .dataframe thead th {\n",
       "        text-align: right;\n",
       "    }\n",
       "</style>\n",
       "<table border=\"1\" class=\"dataframe\">\n",
       "  <thead>\n",
       "    <tr style=\"text-align: right;\">\n",
       "      <th></th>\n",
       "      <th>municipio-uf</th>\n",
       "      <th>_merge</th>\n",
       "    </tr>\n",
       "  </thead>\n",
       "  <tbody>\n",
       "    <tr>\n",
       "      <th>224</th>\n",
       "      <td>MOJUI DOS CAMPOS-PA</td>\n",
       "      <td>left_only</td>\n",
       "    </tr>\n",
       "    <tr>\n",
       "      <th>4341</th>\n",
       "      <td>BALNEARIO RINCAO-SC</td>\n",
       "      <td>left_only</td>\n",
       "    </tr>\n",
       "    <tr>\n",
       "      <th>4505</th>\n",
       "      <td>PESCARIA BRAVA-SC</td>\n",
       "      <td>left_only</td>\n",
       "    </tr>\n",
       "    <tr>\n",
       "      <th>4923</th>\n",
       "      <td>PINTO BANDEIRA-RS</td>\n",
       "      <td>left_only</td>\n",
       "    </tr>\n",
       "    <tr>\n",
       "      <th>5160</th>\n",
       "      <td>PARAISO DAS AGUAS-MS</td>\n",
       "      <td>left_only</td>\n",
       "    </tr>\n",
       "  </tbody>\n",
       "</table>\n",
       "</div>"
      ],
      "text/plain": [
       "              municipio-uf     _merge\n",
       "224    MOJUI DOS CAMPOS-PA  left_only\n",
       "4341   BALNEARIO RINCAO-SC  left_only\n",
       "4505     PESCARIA BRAVA-SC  left_only\n",
       "4923     PINTO BANDEIRA-RS  left_only\n",
       "5160  PARAISO DAS AGUAS-MS  left_only"
      ]
     },
     "execution_count": 34,
     "metadata": {},
     "output_type": "execute_result"
    }
   ],
   "source": [
    "# Iniciamos com um outer join para identificar as ocorrências que não são mútuas entre as tabelas originais\n",
    "print ('Shape de Merge_04',Merge_04.shape)\n",
    "print ('Shape de IBGE_Censo_Idade',IBGE_Censo_Idade.shape)\n",
    "Merge_05 =  pd.merge(Merge_04['municipio-uf'], IBGE_Censo_Idade['municipio-uf'],how=\"outer\", on='municipio-uf',indicator=True,suffixes=('_tab1','_tab2'))\n",
    "Merge_05.shape\n",
    "print ('Shape de  merge_05', Merge_05.shape)\n",
    "\n",
    "## Identificando as divergências\n",
    "diferencas=Merge_05[Merge_05['_merge']!='both']\n",
    "print(\"\\n\", \"Diferenças encontradas\", diferencas.shape)\n",
    "print (diferencas['_merge'].value_counts())\n",
    "diferencas"
   ]
  },
  {
   "cell_type": "markdown",
   "metadata": {},
   "source": [
    "Vemos aqui que há 5 (cinco) ocorrências em Merge_04 que não existem em IBGE_Censo_Idade. Tratam-se de municípios instalados após a realização do Censo de 2010. \n",
    "\n",
    "Assim, como a intenção é avaliar o efeito de variáveis, como as do censo, na previsão da arrecadação, esses cinco municípios deverão ser excluídos, vez que não apresentarão a totalidade das informações.\n",
    "\n",
    "Para isso faremos um inner join."
   ]
  },
  {
   "cell_type": "markdown",
   "metadata": {},
   "source": [
    "### Refazer o merge, mas agora como o inner join.\n",
    "\n",
    "Havendo divergências remanescentes, o Merge pode ser repetido, agora como Inner Join de modo a mantermos todas as ocorrências mútuas de 'Merge_04' e  \"IBGE_Censo_Idade\". Passaremos a ter, então, 5565 municípios."
   ]
  },
  {
   "cell_type": "code",
   "execution_count": 35,
   "metadata": {},
   "outputs": [
    {
     "name": "stdout",
     "output_type": "stream",
     "text": [
      "Shape de Merge_04 (5570, 29)\n",
      "Shape de IBGE_Censo_Idade (5565, 6)\n",
      "Shape de  merge_05 (5565, 35)\n"
     ]
    }
   ],
   "source": [
    "print ('Shape de Merge_04', Merge_04.shape)\n",
    "print ('Shape de IBGE_Censo_Idade',IBGE_Censo_Idade.shape)\n",
    "Merge_05 =  pd.merge(Merge_04, IBGE_Censo_Idade,how=\"inner\", on='municipio-uf',indicator=True,suffixes=('_tab1','_tab2'))\n",
    "Merge_05.shape\n",
    "print ('Shape de  merge_05', Merge_05.shape)"
   ]
  },
  {
   "cell_type": "code",
   "execution_count": 36,
   "metadata": {},
   "outputs": [
    {
     "name": "stdout",
     "output_type": "stream",
     "text": [
      "Shape do dataframe: (5565, 35)\n",
      "Colunas que contêm valores faltantes: []\n",
      "Número de linhas com valores faltantes: 0 \n",
      "\n"
     ]
    },
    {
     "data": {
      "text/plain": [
       "[]"
      ]
     },
     "execution_count": 36,
     "metadata": {},
     "output_type": "execute_result"
    }
   ],
   "source": [
    "# Chama a função para identificar se há valores faltantes ou NaN.\n",
    "identificar_faltantes(Merge_05)"
   ]
  },
  {
   "cell_type": "code",
   "execution_count": 37,
   "metadata": {},
   "outputs": [
    {
     "data": {
      "text/plain": [
       "Index(['municipio-uf', '01_arrecadacao_2018', '02_unidades',\n",
       "       '02_unidades_atuantes_%', '02_ocupados_total',\n",
       "       '02_ocupados_assalariados_%', '02_ocupados_assalariados_medio',\n",
       "       '02_salario_medio_mensal_em_SM', '02_salario_medio_mensal_em_Reais',\n",
       "       '03_nome_uf', '03_uf', '03_cod_municipio', '03_grande_regiao',\n",
       "       '03_mesorregiao', '03_microregiao', '03_regiao_imediata',\n",
       "       '03_regiao_intermediaria', '03_vlr_adic_bruto_total',\n",
       "       '03_vlr_adic_bruto_agropecuaria_%', '03_vlr_adic_bruto_industria_%',\n",
       "       '03_vlr_adic_bruto_servicos_%', '03_vlr_adic_bruto_administracao_%',\n",
       "       '03_impostos_sobre_produtos', '03_pib', '03_pib_per_capita',\n",
       "       '03_atividade_principal_primeira', '03_atividade_principal_segunda',\n",
       "       '03_atividade_principal_terceira', '04_populacao_residente_2018',\n",
       "       '05_total_residentes', '05_0-19_anos_%', '05_20-39_anos_%',\n",
       "       '05_40-59_anos_%', '05_60+_anos_%'],\n",
       "      dtype='object')"
      ]
     },
     "execution_count": 37,
     "metadata": {},
     "output_type": "execute_result"
    }
   ],
   "source": [
    "#Podemos apagar a coluna '_merge' criada pelo comando de mesmo nome.\n",
    "Merge_05 = Merge_05.drop('_merge', axis=1)\n",
    "Merge_05.columns"
   ]
  },
  {
   "cell_type": "markdown",
   "metadata": {},
   "source": [
    "\n",
    "## Merge 6 - 'Merge_05' e 'IBGE_Censo_Instrucao'.\n",
    "\n",
    "Como já conhecemos boa parte das divergências, já podemos iniciar os procedimentos pela regularização das grafias dos nomes de municípios."
   ]
  },
  {
   "cell_type": "code",
   "execution_count": 38,
   "metadata": {},
   "outputs": [],
   "source": [
    "# Como no merge1 o dataframe à direita é arrecadacao_2018, será nele que faremos as adequações.\n",
    "IBGE_Censo_Instrucao['municipio-uf'] = IBGE_Censo_Instrucao['municipio-uf'].apply(corrigir_nomes_municipios)"
   ]
  },
  {
   "cell_type": "markdown",
   "metadata": {},
   "source": [
    "Seguimos fazendo um merge ('outer') para identificar eventuais divergências."
   ]
  },
  {
   "cell_type": "code",
   "execution_count": 39,
   "metadata": {},
   "outputs": [
    {
     "name": "stdout",
     "output_type": "stream",
     "text": [
      "Shape de Merge_05 (5565, 34)\n",
      "Shape de IBGE_Censo_Instrucao (5565, 7)\n",
      "Shape de  merge_06 (5565, 2)\n",
      "\n",
      " Diferenças encontradas (0, 2)\n",
      "both          0\n",
      "right_only    0\n",
      "left_only     0\n",
      "Name: _merge, dtype: int64\n"
     ]
    },
    {
     "data": {
      "text/html": [
       "<div>\n",
       "<style scoped>\n",
       "    .dataframe tbody tr th:only-of-type {\n",
       "        vertical-align: middle;\n",
       "    }\n",
       "\n",
       "    .dataframe tbody tr th {\n",
       "        vertical-align: top;\n",
       "    }\n",
       "\n",
       "    .dataframe thead th {\n",
       "        text-align: right;\n",
       "    }\n",
       "</style>\n",
       "<table border=\"1\" class=\"dataframe\">\n",
       "  <thead>\n",
       "    <tr style=\"text-align: right;\">\n",
       "      <th></th>\n",
       "      <th>municipio-uf</th>\n",
       "      <th>_merge</th>\n",
       "    </tr>\n",
       "  </thead>\n",
       "  <tbody>\n",
       "  </tbody>\n",
       "</table>\n",
       "</div>"
      ],
      "text/plain": [
       "Empty DataFrame\n",
       "Columns: [municipio-uf, _merge]\n",
       "Index: []"
      ]
     },
     "execution_count": 39,
     "metadata": {},
     "output_type": "execute_result"
    }
   ],
   "source": [
    "# Iniciamos com um outer join para identificar as ocorrências que não são mútuas entre as tabelas originais\n",
    "print ('Shape de Merge_05',Merge_05.shape)\n",
    "print ('Shape de IBGE_Censo_Instrucao',IBGE_Censo_Instrucao.shape)\n",
    "Merge_06 =  pd.merge(Merge_05['municipio-uf'], IBGE_Censo_Instrucao['municipio-uf'],how=\"outer\", on='municipio-uf',indicator=True,suffixes=('_tab1','_tab2'))\n",
    "Merge_06.shape\n",
    "print ('Shape de  merge_06', Merge_06.shape)\n",
    "\n",
    "## Identificando as divergências\n",
    "diferencas=Merge_06[Merge_06['_merge']!='both']\n",
    "print(\"\\n\", \"Diferenças encontradas\", diferencas.shape)\n",
    "print (diferencas['_merge'].value_counts())\n",
    "diferencas"
   ]
  },
  {
   "cell_type": "markdown",
   "metadata": {},
   "source": [
    "### Refazer o merge, mas agora como o inner join.\n",
    "\n",
    "Como não há divergências remanescentes, o Merge pode ser repetido, agora como Inner Join de modo a mantermos todas as ocorrências mútuas de 'Merge_05' e  \"IBGE_Censo_Instrucao\". Continuaremos a ter, então, 5565 municípios."
   ]
  },
  {
   "cell_type": "code",
   "execution_count": 40,
   "metadata": {},
   "outputs": [
    {
     "name": "stdout",
     "output_type": "stream",
     "text": [
      "Shape de Merge_05 (5565, 34)\n",
      "Shape de IBGE_Censo_Instrucao (5565, 7)\n",
      "Shape de  merge_06 (5565, 41)\n"
     ]
    }
   ],
   "source": [
    "print ('Shape de Merge_05', Merge_05.shape)\n",
    "print ('Shape de IBGE_Censo_Instrucao',IBGE_Censo_Instrucao.shape)\n",
    "Merge_06 =  pd.merge(Merge_05, IBGE_Censo_Instrucao,how=\"inner\", on='municipio-uf',indicator=True,suffixes=('_tab1','_tab2'))\n",
    "Merge_06.shape\n",
    "print ('Shape de  merge_06', Merge_06.shape)"
   ]
  },
  {
   "cell_type": "code",
   "execution_count": 41,
   "metadata": {},
   "outputs": [
    {
     "name": "stdout",
     "output_type": "stream",
     "text": [
      "Shape do dataframe: (5565, 41)\n",
      "Colunas que contêm valores faltantes: []\n",
      "Número de linhas com valores faltantes: 0 \n",
      "\n"
     ]
    },
    {
     "data": {
      "text/plain": [
       "[]"
      ]
     },
     "execution_count": 41,
     "metadata": {},
     "output_type": "execute_result"
    }
   ],
   "source": [
    "# Chama a função para identificar se há valores faltantes ou NaN.\n",
    "identificar_faltantes(Merge_06)"
   ]
  },
  {
   "cell_type": "code",
   "execution_count": 42,
   "metadata": {},
   "outputs": [
    {
     "data": {
      "text/plain": [
       "Index(['municipio-uf', '01_arrecadacao_2018', '02_unidades',\n",
       "       '02_unidades_atuantes_%', '02_ocupados_total',\n",
       "       '02_ocupados_assalariados_%', '02_ocupados_assalariados_medio',\n",
       "       '02_salario_medio_mensal_em_SM', '02_salario_medio_mensal_em_Reais',\n",
       "       '03_nome_uf', '03_uf', '03_cod_municipio', '03_grande_regiao',\n",
       "       '03_mesorregiao', '03_microregiao', '03_regiao_imediata',\n",
       "       '03_regiao_intermediaria', '03_vlr_adic_bruto_total',\n",
       "       '03_vlr_adic_bruto_agropecuaria_%', '03_vlr_adic_bruto_industria_%',\n",
       "       '03_vlr_adic_bruto_servicos_%', '03_vlr_adic_bruto_administracao_%',\n",
       "       '03_impostos_sobre_produtos', '03_pib', '03_pib_per_capita',\n",
       "       '03_atividade_principal_primeira', '03_atividade_principal_segunda',\n",
       "       '03_atividade_principal_terceira', '04_populacao_residente_2018',\n",
       "       '05_total_residentes', '05_0-19_anos_%', '05_20-39_anos_%',\n",
       "       '05_40-59_anos_%', '05_60+_anos_%', '06_total_instrução',\n",
       "       '06_Sem_Instrução_e_Fundamental_Incompleto%', '06_Medio_Incompleto_%',\n",
       "       '06_Superior_Incompleto_%', '06_Superior_Completo_%',\n",
       "       '06_Indeterminado_%'],\n",
       "      dtype='object')"
      ]
     },
     "execution_count": 42,
     "metadata": {},
     "output_type": "execute_result"
    }
   ],
   "source": [
    "#Podemos apagar a coluna '_merge' criada pelo comando de mesmo nome.\n",
    "Merge_06 = Merge_06.drop('_merge', axis=1)\n",
    "Merge_06.columns"
   ]
  },
  {
   "cell_type": "markdown",
   "metadata": {},
   "source": [
    "\n",
    "## Merge 7 - 'Merge_06' e 'IBGE_Censo_Rendimento'.\n",
    "\n",
    "Como já conhecemos boa parte das divergências, já podemos iniciar os procedimentos pela regularização das grafias dos nomes de municípios."
   ]
  },
  {
   "cell_type": "code",
   "execution_count": 43,
   "metadata": {},
   "outputs": [],
   "source": [
    "# Como no merge1 o dataframe à direita é arrecadacao_2018, será nele que faremos as adequações.\n",
    "IBGE_Censo_Rendimento['municipio-uf'] = IBGE_Censo_Rendimento['municipio-uf'].apply(corrigir_nomes_municipios)"
   ]
  },
  {
   "cell_type": "markdown",
   "metadata": {},
   "source": [
    "Seguimos fazendo um merge ('outer') para identificar eventuais divergências."
   ]
  },
  {
   "cell_type": "code",
   "execution_count": 44,
   "metadata": {},
   "outputs": [
    {
     "name": "stdout",
     "output_type": "stream",
     "text": [
      "Shape de Merge_06 (5565, 40)\n",
      "Shape de IBGE_Censo_Rendimento (5565, 10)\n",
      "Shape de  merge_07 (5565, 2)\n",
      "\n",
      " Diferenças encontradas (0, 2)\n",
      "both          0\n",
      "right_only    0\n",
      "left_only     0\n",
      "Name: _merge, dtype: int64\n"
     ]
    },
    {
     "data": {
      "text/html": [
       "<div>\n",
       "<style scoped>\n",
       "    .dataframe tbody tr th:only-of-type {\n",
       "        vertical-align: middle;\n",
       "    }\n",
       "\n",
       "    .dataframe tbody tr th {\n",
       "        vertical-align: top;\n",
       "    }\n",
       "\n",
       "    .dataframe thead th {\n",
       "        text-align: right;\n",
       "    }\n",
       "</style>\n",
       "<table border=\"1\" class=\"dataframe\">\n",
       "  <thead>\n",
       "    <tr style=\"text-align: right;\">\n",
       "      <th></th>\n",
       "      <th>municipio-uf</th>\n",
       "      <th>_merge</th>\n",
       "    </tr>\n",
       "  </thead>\n",
       "  <tbody>\n",
       "  </tbody>\n",
       "</table>\n",
       "</div>"
      ],
      "text/plain": [
       "Empty DataFrame\n",
       "Columns: [municipio-uf, _merge]\n",
       "Index: []"
      ]
     },
     "execution_count": 44,
     "metadata": {},
     "output_type": "execute_result"
    }
   ],
   "source": [
    "# Iniciamos com um outer join para identificar as ocorrências que não são mútuas entre as tabelas originais\n",
    "print ('Shape de Merge_06',Merge_06.shape)\n",
    "print ('Shape de IBGE_Censo_Rendimento',IBGE_Censo_Rendimento.shape)\n",
    "Merge_07 =  pd.merge(Merge_06['municipio-uf'], IBGE_Censo_Rendimento['municipio-uf'],how=\"outer\", on='municipio-uf',indicator=True,suffixes=('_tab1','_tab2'))\n",
    "Merge_07.shape\n",
    "print ('Shape de  merge_07', Merge_07.shape)\n",
    "\n",
    "## Identificando as divergências\n",
    "diferencas=Merge_07[Merge_07['_merge']!='both']\n",
    "print(\"\\n\", \"Diferenças encontradas\", diferencas.shape)\n",
    "print (diferencas['_merge'].value_counts())\n",
    "diferencas"
   ]
  },
  {
   "cell_type": "markdown",
   "metadata": {},
   "source": [
    "### Refazer o merge, mas agora como o inner join.\n",
    "\n",
    "Como não há divergências remanescentes, o Merge pode ser repetido, agora como Inner Join de modo a mantermos todas as ocorrências mútuas de 'Merge_06' e  \"IBGE_Censo_Rendimento\". Continuaremos a ter, então, 5565 municípios."
   ]
  },
  {
   "cell_type": "code",
   "execution_count": 45,
   "metadata": {},
   "outputs": [
    {
     "name": "stdout",
     "output_type": "stream",
     "text": [
      "Shape de Merge_06 (5565, 40)\n",
      "Shape de IBGE_Censo_Rendimento (5565, 10)\n",
      "Shape de  merge_07 (5565, 50)\n"
     ]
    }
   ],
   "source": [
    "print ('Shape de Merge_06', Merge_06.shape)\n",
    "print ('Shape de IBGE_Censo_Rendimento',IBGE_Censo_Rendimento.shape)\n",
    "Merge_07 =  pd.merge(Merge_06, IBGE_Censo_Rendimento,how=\"inner\", on='municipio-uf',indicator=True,suffixes=('_tab1','_tab2'))\n",
    "Merge_07.shape\n",
    "print ('Shape de  merge_07', Merge_07.shape)"
   ]
  },
  {
   "cell_type": "code",
   "execution_count": 46,
   "metadata": {},
   "outputs": [
    {
     "name": "stdout",
     "output_type": "stream",
     "text": [
      "Shape do dataframe: (5565, 50)\n",
      "Colunas que contêm valores faltantes: []\n",
      "Número de linhas com valores faltantes: 0 \n",
      "\n"
     ]
    },
    {
     "data": {
      "text/plain": [
       "[]"
      ]
     },
     "execution_count": 46,
     "metadata": {},
     "output_type": "execute_result"
    }
   ],
   "source": [
    "# Chama a função para identificar se há valores faltantes ou NaN.\n",
    "identificar_faltantes(Merge_07)"
   ]
  },
  {
   "cell_type": "code",
   "execution_count": 47,
   "metadata": {},
   "outputs": [
    {
     "data": {
      "text/plain": [
       "Index(['municipio-uf', '01_arrecadacao_2018', '02_unidades',\n",
       "       '02_unidades_atuantes_%', '02_ocupados_total',\n",
       "       '02_ocupados_assalariados_%', '02_ocupados_assalariados_medio',\n",
       "       '02_salario_medio_mensal_em_SM', '02_salario_medio_mensal_em_Reais',\n",
       "       '03_nome_uf', '03_uf', '03_cod_municipio', '03_grande_regiao',\n",
       "       '03_mesorregiao', '03_microregiao', '03_regiao_imediata',\n",
       "       '03_regiao_intermediaria', '03_vlr_adic_bruto_total',\n",
       "       '03_vlr_adic_bruto_agropecuaria_%', '03_vlr_adic_bruto_industria_%',\n",
       "       '03_vlr_adic_bruto_servicos_%', '03_vlr_adic_bruto_administracao_%',\n",
       "       '03_impostos_sobre_produtos', '03_pib', '03_pib_per_capita',\n",
       "       '03_atividade_principal_primeira', '03_atividade_principal_segunda',\n",
       "       '03_atividade_principal_terceira', '04_populacao_residente_2018',\n",
       "       '05_total_residentes', '05_0-19_anos_%', '05_20-39_anos_%',\n",
       "       '05_40-59_anos_%', '05_60+_anos_%', '06_total_instrução',\n",
       "       '06_Sem_Instrução_e_Fundamental_Incompleto%', '06_Medio_Incompleto_%',\n",
       "       '06_Superior_Incompleto_%', '06_Superior_Completo_%',\n",
       "       '06_Indeterminado_%', '07_total_rendimentos', '07_Ate_1SM_%',\n",
       "       '07_Ate_2SM_%', '07_Ate_3SM_%', '07_Ate_5SM_%', '07_Ate_10SM_%',\n",
       "       '07_Ate_20SM_%', '07_20SM+_%', '07_Sem_Rendimento_%'],\n",
       "      dtype='object')"
      ]
     },
     "execution_count": 47,
     "metadata": {},
     "output_type": "execute_result"
    }
   ],
   "source": [
    "#Podemos apagar a coluna '_merge' criada pelo comando de mesmo nome.\n",
    "Merge_07 = Merge_07.drop('_merge', axis=1)\n",
    "Merge_07.columns"
   ]
  },
  {
   "cell_type": "code",
   "execution_count": 48,
   "metadata": {},
   "outputs": [
    {
     "name": "stdout",
     "output_type": "stream",
     "text": [
      "(5565, 49)\n",
      "<class 'pandas.core.frame.DataFrame'>\n",
      "Int64Index: 5565 entries, 0 to 5564\n",
      "Data columns (total 49 columns):\n",
      " #   Column                                      Non-Null Count  Dtype  \n",
      "---  ------                                      --------------  -----  \n",
      " 0   municipio-uf                                5565 non-null   object \n",
      " 1   01_arrecadacao_2018                         5565 non-null   float64\n",
      " 2   02_unidades                                 5565 non-null   int64  \n",
      " 3   02_unidades_atuantes_%                      5565 non-null   float64\n",
      " 4   02_ocupados_total                           5565 non-null   int64  \n",
      " 5   02_ocupados_assalariados_%                  5565 non-null   float64\n",
      " 6   02_ocupados_assalariados_medio              5565 non-null   float64\n",
      " 7   02_salario_medio_mensal_em_SM               5565 non-null   float64\n",
      " 8   02_salario_medio_mensal_em_Reais            5565 non-null   float64\n",
      " 9   03_nome_uf                                  5565 non-null   object \n",
      " 10  03_uf                                       5565 non-null   object \n",
      " 11  03_cod_municipio                            5565 non-null   int64  \n",
      " 12  03_grande_regiao                            5565 non-null   object \n",
      " 13  03_mesorregiao                              5565 non-null   object \n",
      " 14  03_microregiao                              5565 non-null   object \n",
      " 15  03_regiao_imediata                          5565 non-null   object \n",
      " 16  03_regiao_intermediaria                     5565 non-null   object \n",
      " 17  03_vlr_adic_bruto_total                     5565 non-null   float64\n",
      " 18  03_vlr_adic_bruto_agropecuaria_%            5565 non-null   float64\n",
      " 19  03_vlr_adic_bruto_industria_%               5565 non-null   float64\n",
      " 20  03_vlr_adic_bruto_servicos_%                5565 non-null   float64\n",
      " 21  03_vlr_adic_bruto_administracao_%           5565 non-null   float64\n",
      " 22  03_impostos_sobre_produtos                  5565 non-null   float64\n",
      " 23  03_pib                                      5565 non-null   float64\n",
      " 24  03_pib_per_capita                           5565 non-null   float64\n",
      " 25  03_atividade_principal_primeira             5565 non-null   object \n",
      " 26  03_atividade_principal_segunda              5565 non-null   object \n",
      " 27  03_atividade_principal_terceira             5565 non-null   object \n",
      " 28  04_populacao_residente_2018                 5565 non-null   int64  \n",
      " 29  05_total_residentes                         5565 non-null   float64\n",
      " 30  05_0-19_anos_%                              5565 non-null   float64\n",
      " 31  05_20-39_anos_%                             5565 non-null   float64\n",
      " 32  05_40-59_anos_%                             5565 non-null   float64\n",
      " 33  05_60+_anos_%                               5565 non-null   float64\n",
      " 34  06_total_instrução                          5565 non-null   int64  \n",
      " 35  06_Sem_Instrução_e_Fundamental_Incompleto%  5565 non-null   float64\n",
      " 36  06_Medio_Incompleto_%                       5565 non-null   float64\n",
      " 37  06_Superior_Incompleto_%                    5565 non-null   float64\n",
      " 38  06_Superior_Completo_%                      5565 non-null   float64\n",
      " 39  06_Indeterminado_%                          5565 non-null   float64\n",
      " 40  07_total_rendimentos                        5565 non-null   int64  \n",
      " 41  07_Ate_1SM_%                                5565 non-null   float64\n",
      " 42  07_Ate_2SM_%                                5565 non-null   float64\n",
      " 43  07_Ate_3SM_%                                5565 non-null   float64\n",
      " 44  07_Ate_5SM_%                                5565 non-null   float64\n",
      " 45  07_Ate_10SM_%                               5565 non-null   float64\n",
      " 46  07_Ate_20SM_%                               5565 non-null   float64\n",
      " 47  07_20SM+_%                                  5565 non-null   float64\n",
      " 48  07_Sem_Rendimento_%                         5565 non-null   float64\n",
      "dtypes: float64(32), int64(6), object(11)\n",
      "memory usage: 2.1+ MB\n"
     ]
    }
   ],
   "source": [
    "print(Merge_07.shape)\n",
    "Merge_07.info()"
   ]
  },
  {
   "cell_type": "markdown",
   "metadata": {},
   "source": [
    "## 5. Criação do *dataset* consolidado\n",
    "\n",
    "Cria a tabela que será a base para a exploração dos dados e aplicação dos modelos de machine learning."
   ]
  },
  {
   "cell_type": "code",
   "execution_count": 49,
   "metadata": {},
   "outputs": [],
   "source": [
    "Merge_07.to_csv('ntbk 02 - dataset consolidado.csv',index=False)"
   ]
  }
 ],
 "metadata": {
  "kernelspec": {
   "display_name": "Python 3",
   "language": "python",
   "name": "python3"
  },
  "language_info": {
   "codemirror_mode": {
    "name": "ipython",
    "version": 3
   },
   "file_extension": ".py",
   "mimetype": "text/x-python",
   "name": "python",
   "nbconvert_exporter": "python",
   "pygments_lexer": "ipython3",
   "version": "3.8.5"
  }
 },
 "nbformat": 4,
 "nbformat_minor": 2
}
